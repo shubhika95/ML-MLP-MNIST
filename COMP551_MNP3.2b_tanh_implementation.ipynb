{
 "cells": [
  {
   "cell_type": "markdown",
   "metadata": {
    "id": "j6331ZSsQGY3"
   },
   "source": [
    "# COMP 551 - Mini-project 3\n",
    "Group 63"
   ]
  },
  {
   "cell_type": "code",
   "execution_count": 2,
   "metadata": {
    "id": "ifel1K0gBWt_"
   },
   "outputs": [],
   "source": [
    "import keras\n",
    "import numpy as np\n",
    "%matplotlib inline                                 \n",
    "import matplotlib.pyplot as plt\n",
    "from IPython.core.debugger import set_trace  \n",
    "import scipy.sparse as sparse\n",
    "import pandas as pd\n",
    "import seaborn as sns\n",
    "import os\n",
    "\n",
    "np.random.seed(1234)"
   ]
  },
  {
   "cell_type": "markdown",
   "metadata": {
    "id": "b08Mmbs8lr81"
   },
   "source": [
    "## Task 1. Data pre-processing\n",
    "\n",
    "- Load the raw data from Keras.\n",
    "- Vectorize 28*28 pictures to 1D vector.\n",
    "- Normalize the intensity of the pixel."
   ]
  },
  {
   "cell_type": "markdown",
   "metadata": {
    "id": "xZyGXlaKojgz"
   },
   "source": [
    "Load the MNIST dataset distributed with Keras. "
   ]
  },
  {
   "cell_type": "code",
   "execution_count": 3,
   "metadata": {
    "colab": {
     "base_uri": "https://localhost:8080/"
    },
    "id": "N01fKjwJDKAz",
    "outputId": "71f5a15e-c570-4d2b-b58d-1a419626e5d9"
   },
   "outputs": [
    {
     "name": "stdout",
     "output_type": "stream",
     "text": [
      "(60000, 28, 28) (10000, 28, 28) (60000,) (10000,)\n"
     ]
    }
   ],
   "source": [
    "(x_train, y_train), (x_test, y_test) = keras.datasets.mnist.load_data()\n",
    "print(x_train.shape, x_test.shape, y_train.shape, y_test.shape)"
   ]
  },
  {
   "cell_type": "markdown",
   "metadata": {
    "id": "5rX8l1wVDOiN"
   },
   "source": [
    "Vectorize the 28*28 pictures to a 784 vector."
   ]
  },
  {
   "cell_type": "code",
   "execution_count": 4,
   "metadata": {
    "colab": {
     "base_uri": "https://localhost:8080/"
    },
    "id": "Y4gvmJN6DPxI",
    "outputId": "5b6530c7-3c93-46db-b1ae-a26053cc1c63"
   },
   "outputs": [
    {
     "name": "stdout",
     "output_type": "stream",
     "text": [
      "(60000, 784) (10000, 784)\n"
     ]
    }
   ],
   "source": [
    "x_train = np.reshape(x_train, (-1, 784)).astype('float32')\n",
    "x_test = np.reshape(x_test, (-1, 784)).astype('float32')\n",
    "print(x_train.shape, x_test.shape)"
   ]
  },
  {
   "cell_type": "markdown",
   "metadata": {
    "id": "LQqnKrdkEcw6"
   },
   "source": [
    "The intensity ranges from 0 to 255. We divide all intensities by the maximum (255) to obtain a [0-1] range."
   ]
  },
  {
   "cell_type": "code",
   "execution_count": 5,
   "metadata": {
    "colab": {
     "base_uri": "https://localhost:8080/"
    },
    "id": "P-s4iFV3Ez3H",
    "outputId": "8d9bd003-d98f-4735-ef44-009bb77c63c8"
   },
   "outputs": [
    {
     "name": "stdout",
     "output_type": "stream",
     "text": [
      "Intensity before normalization: 0.0 255.0\n",
      "Intensity after normalization: 0.0 1.0\n"
     ]
    }
   ],
   "source": [
    "print('Intensity before normalization:', np.amin(x_train), np.amax(x_train))\n",
    "x_train, x_test = x_train/255.0, x_test/255.0\n",
    "print('Intensity after normalization:', np.amin(x_train), np.amax(x_train))"
   ]
  },
  {
   "cell_type": "markdown",
   "metadata": {
    "id": "MUnquDPg1D-k"
   },
   "source": [
    "We transform the (N,) vector of labels using one-hot encoding into a (N,C) matrix."
   ]
  },
  {
   "cell_type": "code",
   "execution_count": 6,
   "metadata": {
    "id": "9fXA7QipDn4Z"
   },
   "outputs": [],
   "source": [
    "y_train = keras.utils.to_categorical(y_train)\n",
    "y_test = keras.utils.to_categorical(y_test)"
   ]
  },
  {
   "cell_type": "code",
   "execution_count": 7,
   "metadata": {
    "colab": {
     "base_uri": "https://localhost:8080/"
    },
    "id": "9j0ZFP-81zIY",
    "outputId": "d8bf6ea5-d4b1-4e48-c0f6-61f621161e12"
   },
   "outputs": [
    {
     "name": "stdout",
     "output_type": "stream",
     "text": [
      "(60000, 10) (10000, 10)\n",
      "[[0. 0. 0. 0. 0. 1. 0. 0. 0. 0.]\n",
      " [1. 0. 0. 0. 0. 0. 0. 0. 0. 0.]\n",
      " [0. 0. 0. 0. 1. 0. 0. 0. 0. 0.]]\n"
     ]
    }
   ],
   "source": [
    "print(y_train.shape, y_test.shape)\n",
    "print(y_train[0:3,])"
   ]
  },
  {
   "cell_type": "markdown",
   "metadata": {
    "id": "-m3fZmPK14rd"
   },
   "source": [
    "Subset the data to use in Colab."
   ]
  },
  {
   "cell_type": "code",
   "execution_count": 7,
   "metadata": {
    "id": "fx0N2a_Q1hMO"
   },
   "outputs": [
    {
     "data": {
      "text/plain": [
       "'\"data_slice = 3000\\nx_train = x_train[:data_slice,:]\\ny_train = y_train[:data_slice,:]\\nx_test = x_test[:data_slice,:]\\ny_test = y_test[:data_slice,:]'"
      ]
     },
     "execution_count": 7,
     "metadata": {},
     "output_type": "execute_result"
    }
   ],
   "source": [
    "\"\"\"\"data_slice = 3000\n",
    "x_train = x_train[:data_slice,:]\n",
    "y_train = y_train[:data_slice,:]\n",
    "x_test = x_test[:data_slice,:]\n",
    "y_test = y_test[:data_slice,:]\"\"\""
   ]
  },
  {
   "cell_type": "markdown",
   "metadata": {
    "id": "UpKU5kZOJkEe"
   },
   "source": [
    "## Task 2. Multilayer perceptron implementation"
   ]
  },
  {
   "cell_type": "markdown",
   "metadata": {
    "id": "M6FNYQoRs0ue"
   },
   "source": [
    "### 2.1 Build the network\n",
    "Our task is a multiclass classification.The cost function will be the multi-class cross-entropy loss. We will use the following architecture:\n",
    "- output layer = softmax activation\n",
    "- hidden layers (0, 1 or 2): 128 units, ReLu, tanh or logistic activation\n"
   ]
  },
  {
   "cell_type": "markdown",
   "metadata": {
    "id": "NUW6HFnH43cv"
   },
   "source": [
    "First, we implement the activation functions."
   ]
  },
  {
   "cell_type": "code",
   "execution_count": 8,
   "metadata": {
    "id": "L1skqPZ_s0uq"
   },
   "outputs": [],
   "source": [
    "# logistic/sigmoid\n",
    "logistic = lambda z: 1./ (1 + np.exp(-z))\n",
    "\n",
    "# softmax\n",
    "eps=1e-8\n",
    "def softmax(z):\n",
    "    logits = z - np.max(z) # for numerical stability\n",
    "    sum_logits = np.sum(np.exp(logits), axis=1) +eps\n",
    "    softmax = np.exp(logits)/sum_logits[:,None] \n",
    "    return softmax\n",
    "\n",
    "#defining the tanh activation function\n",
    "def tanh(x):\n",
    "    return np.tanh(x)\n",
    "\n",
    "def tanh2deriv(output):\n",
    "    return 1 - (output ** 2)"
   ]
  },
  {
   "cell_type": "markdown",
   "metadata": {
    "id": "qxFKbS58_69S"
   },
   "source": [
    "Next, we build the MLP class."
   ]
  },
  {
   "cell_type": "code",
   "execution_count": 9,
   "metadata": {
    "id": "oKIoaax3f6f0"
   },
   "outputs": [],
   "source": [
    "# for 2 hidden layer with tanh activation function\n",
    "class MLP2layer_tanh:\n",
    "    \n",
    "    def __init__(self, M = 128):\n",
    "        self.M = M\n",
    "            \n",
    "    def fit(self, x_train, y_train, x_test, y_test, optimizer):\n",
    "        N = x_train.shape[0]\n",
    "        C = y_train.shape[1] # number of classes\n",
    "        D = x_train.shape[1]\n",
    "        def gradient(x, y, params):\n",
    "            v, w, u = params\n",
    "            # forward pass\n",
    "            n = x.shape[0]\n",
    "            # add bias to the input layer\n",
    "            x = np.column_stack([x,np.ones(n)*0.1])\n",
    "            b = np.ones((n,1))*0.1\n",
    "\n",
    "            q1 = np.dot(x, v) #np.column_stack([np.dot(x, v),np.ones(N)*0.1]) #trying adding bias here\n",
    "            z1 = tanh(np.hstack((q1,b))) #N x M want to column stack to add bias here\n",
    "            q2 = np.dot(z1,w) #np.column_stack([np.dot(z1,w),np.ones(N)*0.1]) #trying adding bias here\n",
    "            z2 = tanh(np.hstack((q2,b)))\n",
    "            yh = softmax(np.dot(z2, u))#N x C\n",
    "            # backward pass => gradient formula adapted from class dw = (yh-y)*z, dv = (yh-y)*w*tanh2deriv(q)*x\n",
    "            \n",
    "            dy = yh - y #N x C\n",
    "            \n",
    "            du = np.dot(z2.T,dy)/N\n",
    "            \n",
    "            #print(dz2.shape)  \n",
    "            dz2 = np.dot(dy,u.T)\n",
    "            dz2 = np.delete(dz2, -1, axis=1)\n",
    "            dq2 = tanh2deriv(q2)\n",
    "            #print(dz2.T * dq2)\n",
    "            dw = np.dot(z1.T, dz2 * dq2)/N #M x C\n",
    "            dz1 = np.dot(dz2, w.T) #N x M\n",
    "            dz1 = np.delete(dz1,-1,axis=1)\n",
    "            dq1 = tanh2deriv(q1)\n",
    "            dv = np.dot(x.T, dz1 * dq1)/N #D x M\n",
    "            dparams = [dv, dw, du]\n",
    "            return dparams\n",
    "        \n",
    "        # initialize the parameters with values in the standard normal distribution and scaled to be low\n",
    "        u = np.random.randn(self.M+1,C) * 0.1 #M x C\n",
    "        w = np.random.randn(self.M+1,self.M) * .01 #M x M\n",
    "        v = np.random.randn(D+1,self.M) * .01 #D x M\n",
    "        \n",
    "        params0 = [v,w,u]\n",
    "\n",
    "        # run the mini-batch gradient descent to update the parameters\n",
    "        self.params, self.train_loss, self.test_loss = optimizer.run(gradient, x_train, y_train, x_test, y_test, params0)\n",
    "        return self\n",
    "    \n",
    "    def predict(self, x):\n",
    "        v, w, u = self.params\n",
    "        # add bias to the input layer\n",
    "        Nt = x.shape[0]\n",
    "        x = np.column_stack([x,np.ones(Nt)*0.1])\n",
    "        b1 = np.ones((Nt,1))*0.1\n",
    "     \n",
    "        # forward pass only using updated parameters\n",
    "\n",
    "        q1 = np.dot(x,v)\n",
    "        z1 = tanh(np.hstack((q1,b1)))\n",
    "        q2 = np.dot(z1,w)\n",
    "        z2 = tanh(np.hstack((q2,b1)))\n",
    "        yh = softmax(np.dot(z2, u))#N x C\n",
    "        return yh"
   ]
  },
  {
   "cell_type": "markdown",
   "metadata": {
    "id": "65sh_GyGNkqO"
   },
   "source": [
    "### 2.2 Implement the cost and accuracy function\n",
    "\n"
   ]
  },
  {
   "cell_type": "code",
   "execution_count": 10,
   "metadata": {
    "id": "IgiPvgSbNuZG"
   },
   "outputs": [],
   "source": [
    "# Softmax cross entropy \n",
    "def logsumexp(Z):                                                # dimension N x C\n",
    "    Zmax = np.max(Z,axis=1)[:,None]                              # max over C\n",
    "    log_sum_exp = Zmax + np.log(np.sum(np.exp(Z - Zmax), axis=1))\n",
    "    return log_sum_exp\n",
    "\n",
    "# cost for tanh activation - two layers\n",
    "def cost_tanh(x, y, params):\n",
    "  Nt = x.shape[0]\n",
    "  v, w, u = params\n",
    "  b1 = np.ones((Nt,1))*0.1\n",
    "  xb = np.column_stack([x,np.ones(Nt)*0.1])\n",
    "  q1 = np.dot(xb, v) \n",
    "  z1 = tanh(np.hstack((q1,b1))) \n",
    "  q2 = np.dot(z1,w)\n",
    "  z2 = tanh(np.hstack((q2,b1)))\n",
    "  q3 = np.dot(z2, u) #N x C\n",
    "  nll = - np.mean(np.sum(q3*y, 1) - logsumexp(q3)) \n",
    "  return nll\n",
    "\n",
    "# Accuracy\n",
    "def evaluate_acc(y, yh):\n",
    "  y_pred = np.argmax(yh,axis=1)\n",
    "  accuracy = np.count_nonzero(y_pred == np.argmax(y,axis=1))/y.shape[0]\n",
    "  return accuracy"
   ]
  },
  {
   "cell_type": "markdown",
   "metadata": {
    "id": "UzCYnVR2OZ7c"
   },
   "source": [
    "### 2.3 Implement the optimizer\n",
    "\n",
    "We will use a mini-batch gradient-descent algorithm."
   ]
  },
  {
   "cell_type": "code",
   "execution_count": 11,
   "metadata": {
    "id": "1u1OikUgk3hk"
   },
   "outputs": [],
   "source": [
    "def create_mini_batch(x, y, batch_size): \n",
    "    D = x.shape[1]\n",
    "    data = np.hstack((x, y))\n",
    "    np.random.shuffle(data)\n",
    "    mini = data[:batch_size,:]                                                    \n",
    "    x_mini = mini[:,:D]\n",
    "    y_mini = mini[:,D:]\n",
    "    return x_mini, y_mini"
   ]
  },
  {
   "cell_type": "code",
   "execution_count": 12,
   "metadata": {
    "id": "AhCrG89Es0us"
   },
   "outputs": [],
   "source": [
    "class GradientDescent:\n",
    "    \n",
    "    def __init__(self, learning_rate=.001, epsilon=1e-8, batch_size=100, iters=600, epochs=50):\n",
    "        self.learning_rate = learning_rate\n",
    "        self.iters = iters\n",
    "        self.epsilon = epsilon\n",
    "        self.batch_size = batch_size\n",
    "        self.epochs = epochs\n",
    "        \n",
    "    def run(self, gradient_fn, x_train, y_train, x_test, y_test, params):\n",
    "        epoch = 1\n",
    "        train_losses = []\n",
    "        test_losses = []\n",
    "        for epoch in range(self.epochs):\n",
    "          train_epoch_loss = []\n",
    "          test_epoch_loss = []\n",
    "          for t in range(self.iters):\n",
    "            x_mini, y_mini = create_mini_batch(x_train, y_train, self.batch_size)\n",
    "            train_loss = cost_tanh(x_mini, y_mini, params)\n",
    "            test_loss = cost_tanh(x_test, y_test, params)\n",
    "            grad = gradient_fn(x_mini, y_mini, params)\n",
    "            for p in range(len(params)):\n",
    "                params[p] -= self.learning_rate * grad[p]\n",
    "            if t % self.iters == 0:\n",
    "              print(f\"Epoch: {epoch+1}, Train error: {train_loss:.4f}, Test error: {test_loss:.4f}\")\n",
    "              epoch += 1\n",
    "            train_epoch_loss.append(train_loss)\n",
    "            test_epoch_loss.append(test_loss)\n",
    "          train_losses.append(np.mean(train_epoch_loss))\n",
    "          test_losses.append(np.mean(test_epoch_loss))\n",
    "        return params, train_losses, test_losses\n"
   ]
  },
  {
   "cell_type": "markdown",
   "metadata": {
    "id": "mlT4tqWfOqH1"
   },
   "source": [
    "## Task 3. Run the experiments"
   ]
  },
  {
   "cell_type": "markdown",
   "metadata": {
    "id": "IJ-WzYlJ39Un"
   },
   "source": [
    "Model with 2 hidden layers and tanh activation"
   ]
  },
  {
   "cell_type": "code",
   "execution_count": 13,
   "metadata": {},
   "outputs": [
    {
     "name": "stdout",
     "output_type": "stream",
     "text": [
      "Epoch: 1, Train error: 2.3062, Test error: 2.3038\n",
      "Epoch: 2, Train error: 2.2536, Test error: 2.2479\n",
      "Epoch: 3, Train error: 2.0965, Test error: 2.0996\n",
      "Epoch: 4, Train error: 1.7271, Test error: 1.7277\n",
      "Epoch: 5, Train error: 1.2706, Test error: 1.3015\n",
      "Epoch: 6, Train error: 1.0443, Test error: 1.0389\n",
      "Epoch: 7, Train error: 0.7903, Test error: 0.8726\n",
      "Epoch: 8, Train error: 0.7730, Test error: 0.7571\n",
      "Epoch: 9, Train error: 0.7712, Test error: 0.6738\n",
      "Epoch: 10, Train error: 0.5736, Test error: 0.6098\n",
      "Epoch: 11, Train error: 0.5434, Test error: 0.5605\n",
      "Epoch: 12, Train error: 0.6325, Test error: 0.5224\n",
      "Epoch: 13, Train error: 0.4988, Test error: 0.4917\n",
      "Epoch: 14, Train error: 0.3989, Test error: 0.4672\n",
      "Epoch: 15, Train error: 0.4608, Test error: 0.4464\n",
      "Epoch: 16, Train error: 0.4310, Test error: 0.4291\n",
      "Epoch: 17, Train error: 0.3276, Test error: 0.4144\n",
      "Epoch: 18, Train error: 0.4191, Test error: 0.4014\n",
      "Epoch: 19, Train error: 0.4180, Test error: 0.3907\n",
      "Epoch: 20, Train error: 0.3590, Test error: 0.3805\n"
     ]
    },
    {
     "data": {
      "image/png": "[encoded data removed]",
      "text/plain": [
       "<Figure size 432x288 with 1 Axes>"
      ]
     },
     "metadata": {
      "needs_background": "light"
     },
     "output_type": "display_data"
    }
   ],
   "source": [
    "model = MLP2layer_tanh()\n",
    "optimizer = GradientDescent(learning_rate=2, epochs=20)\n",
    "\n",
    "model.fit(x_train, y_train, x_test, y_test, optimizer)\n",
    "\n",
    "plt.plot(np.arange(len(model.train_loss)), model.train_loss, '-', label='train')\n",
    "plt.plot(np.arange(len(model.test_loss)), model.test_loss, '-', label='test')\n",
    "plt.legend()\n",
    "plt.xlabel('epoch')\n",
    "plt.ylabel('loss')\n",
    "plt.show()"
   ]
  },
  {
   "cell_type": "code",
   "execution_count": 17,
   "metadata": {},
   "outputs": [
    {
     "name": "stdout",
     "output_type": "stream",
     "text": [
      "Accuracy is 90.4\n"
     ]
    }
   ],
   "source": [
    "yh = model.predict(x_test) \n",
    "accuracy = evaluate_acc(y_test, yh)\n",
    "print(f'Accuracy is {accuracy*100:.1f}.')"
   ]
  },
  {
   "cell_type": "code",
   "execution_count": null,
   "metadata": {},
   "outputs": [],
   "source": []
  }
 ],
 "metadata": {
  "colab": {
   "collapsed_sections": [],
   "name": "COMP551_MNP3_2lay.ipynb",
   "provenance": []
  },
  "kernelspec": {
   "display_name": "Python 3",
   "language": "python",
   "name": "python3"
  },
  "language_info": {
   "codemirror_mode": {
    "name": "ipython",
    "version": 3
   },
   "file_extension": ".py",
   "mimetype": "text/x-python",
   "name": "python",
   "nbconvert_exporter": "python",
   "pygments_lexer": "ipython3",
   "version": "3.7.10"
  }
 },
 "nbformat": 4,
 "nbformat_minor": 1
}
