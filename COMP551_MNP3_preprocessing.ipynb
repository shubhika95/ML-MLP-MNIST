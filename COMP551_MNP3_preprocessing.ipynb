{
  "nbformat": 4,
  "nbformat_minor": 0,
  "metadata": {
    "colab": {
      "name": "COMP551_MNP3_preprocessing.ipynb",
      "provenance": [],
      "collapsed_sections": []
    },
    "kernelspec": {
      "display_name": "Python 3",
      "language": "python",
      "name": "python3"
    }
  },
  "cells": [
    {
      "cell_type": "markdown",
      "metadata": {
        "id": "j6331ZSsQGY3"
      },
      "source": [
        "# COMP 551 - Mini-project 3\n",
        "Group 63"
      ]
    },
    {
      "cell_type": "code",
      "metadata": {
        "id": "ifel1K0gBWt_"
      },
      "source": [
        "import keras\n",
        "import numpy as np\n",
        "%matplotlib inline                                 \n",
        "import matplotlib.pyplot as plt\n",
        "from IPython.core.debugger import set_trace  \n",
        "import scipy.sparse as sparse\n",
        "import pandas as pd\n",
        "import seaborn as sns\n",
        "import os\n",
        "\n",
        "np.random.seed(1234)"
      ],
      "execution_count": null,
      "outputs": []
    },
    {
      "cell_type": "code",
      "metadata": {
        "colab": {
          "base_uri": "https://localhost:8080/"
        },
        "id": "CSG6-a0HR91e",
        "outputId": "8ef0a09d-1cfb-4f18-e15c-3474ca76bcc8"
      },
      "source": [
        "# Mount Google Drive\n",
        "from google.colab import drive\n",
        "drive.mount('/content/drive')\n",
        "path='/content/drive/My Drive/Colab Notebooks/COMP551_mini_proj3/figures'"
      ],
      "execution_count": null,
      "outputs": [
        {
          "output_type": "stream",
          "text": [
            "Mounted at /content/drive\n"
          ],
          "name": "stdout"
        }
      ]
    },
    {
      "cell_type": "markdown",
      "metadata": {
        "id": "b08Mmbs8lr81"
      },
      "source": [
        "## Task 1. Data pre-processing\n",
        "\n",
        "- Load the raw data from Keras.\n",
        "- Vectorize 28*28 pictures to 1D vector.\n",
        "- Normalize the intensity of the pixel."
      ]
    },
    {
      "cell_type": "markdown",
      "metadata": {
        "id": "xZyGXlaKojgz"
      },
      "source": [
        "Load the MNIST dataset distributed with Keras. "
      ]
    },
    {
      "cell_type": "code",
      "metadata": {
        "colab": {
          "base_uri": "https://localhost:8080/"
        },
        "id": "N01fKjwJDKAz",
        "outputId": "7877d21d-675a-4d02-f74f-e56c4bf5c863"
      },
      "source": [
        "(x_train, y_train), (x_test, y_test) = keras.datasets.mnist.load_data()\n",
        "print(x_train.shape, x_test.shape, y_train.shape, y_test.shape)"
      ],
      "execution_count": null,
      "outputs": [
        {
          "output_type": "stream",
          "text": [
            "Downloading data from https://storage.googleapis.com/tensorflow/tf-keras-datasets/mnist.npz\n",
            "11493376/11490434 [==============================] - 1s 0us/step\n",
            "(60000, 28, 28) (10000, 28, 28) (60000,) (10000,)\n"
          ],
          "name": "stdout"
        }
      ]
    },
    {
      "cell_type": "markdown",
      "metadata": {
        "id": "5rX8l1wVDOiN"
      },
      "source": [
        "Vectorize the 28*28 pictures to a 784 vector."
      ]
    },
    {
      "cell_type": "code",
      "metadata": {
        "colab": {
          "base_uri": "https://localhost:8080/"
        },
        "id": "Y4gvmJN6DPxI",
        "outputId": "497b937e-b6c8-4e84-900b-75a94e40e755"
      },
      "source": [
        "x_train = np.reshape(x_train, (-1, 784)).astype('float32')\n",
        "x_test = np.reshape(x_test, (-1, 784)).astype('float32')\n",
        "print(x_train.shape, x_test.shape)"
      ],
      "execution_count": null,
      "outputs": [
        {
          "output_type": "stream",
          "text": [
            "(60000, 784) (10000, 784)\n"
          ],
          "name": "stdout"
        }
      ]
    },
    {
      "cell_type": "markdown",
      "metadata": {
        "id": "LQqnKrdkEcw6"
      },
      "source": [
        "The intensity ranges from 0 to 255. We divide all intensities by the maximum (255) to obtain a [0-1] range."
      ]
    },
    {
      "cell_type": "code",
      "metadata": {
        "colab": {
          "base_uri": "https://localhost:8080/"
        },
        "id": "P-s4iFV3Ez3H",
        "outputId": "fac8d152-e6e0-43e9-a266-2261a580d829"
      },
      "source": [
        "print('Intensity before normalization:', np.amin(x_train), np.amax(x_train))\n",
        "x_train, x_test = x_train/255.0, x_test/255.0\n",
        "print('Intensity after normalization:', np.amin(x_train), np.amax(x_train))"
      ],
      "execution_count": null,
      "outputs": [
        {
          "output_type": "stream",
          "text": [
            "Intensity before normalization: 0.0 1.0\n",
            "Intensity after normalization: 0.0 0.003921569\n"
          ],
          "name": "stdout"
        }
      ]
    },
    {
      "cell_type": "markdown",
      "metadata": {
        "id": "drJ90V2DRxt0"
      },
      "source": [
        "Plot the class distribution."
      ]
    },
    {
      "cell_type": "code",
      "metadata": {
        "colab": {
          "base_uri": "https://localhost:8080/",
          "height": 281
        },
        "id": "JtXOkbt6RzgO",
        "outputId": "e6230d38-3124-4ef6-e0b4-290fb698a449"
      },
      "source": [
        "y_train_df = pd.DataFrame(data=y_train, columns=['class'])\n",
        "y_test_df = pd.DataFrame(data=y_test, columns=['class'])\n",
        "y_train_df['dataset'] = 'train'\n",
        "y_test_df['dataset'] = 'test'\n",
        "y_df = pd.concat([y_train_df, y_test_df], axis=0)\n",
        "ax = sns.countplot(x='class', hue ='dataset', data=y_df)\n",
        "ax.set(xlabel='Class', ylabel='Number of instances')\n",
        "plt.savefig(os.path.join(path,'distribution_labels.png'))\n",
        "plt.show()"
      ],
      "execution_count": null,
      "outputs": [
        {
          "output_type": "display_data",
          "data": {
            "image/png": "[encoded data removed]",
            "text/plain": [
              "<Figure size 432x288 with 1 Axes>"
            ]
          },
          "metadata": {
            "tags": [],
            "needs_background": "light"
          }
        }
      ]
    },
    {
      "cell_type": "markdown",
      "metadata": {
        "id": "MUnquDPg1D-k"
      },
      "source": [
        "We transform the (N,) vector of labels using one-hot encoding into a (N,C) matrix."
      ]
    },
    {
      "cell_type": "code",
      "metadata": {
        "id": "9fXA7QipDn4Z"
      },
      "source": [
        "y_train = keras.utils.to_categorical(y_train)\n",
        "y_test = keras.utils.to_categorical(y_test)"
      ],
      "execution_count": null,
      "outputs": []
    },
    {
      "cell_type": "code",
      "metadata": {
        "colab": {
          "base_uri": "https://localhost:8080/"
        },
        "id": "9j0ZFP-81zIY",
        "outputId": "fde9801a-3c6c-41c3-9f02-bd909e67b02f"
      },
      "source": [
        "print(y_train.shape, y_test.shape)\n",
        "print(y_train[0:3,])"
      ],
      "execution_count": null,
      "outputs": [
        {
          "output_type": "stream",
          "text": [
            "(60000, 10) (10000, 10)\n",
            "[[0. 0. 0. 0. 0. 1. 0. 0. 0. 0.]\n",
            " [1. 0. 0. 0. 0. 0. 0. 0. 0. 0.]\n",
            " [0. 0. 0. 0. 1. 0. 0. 0. 0. 0.]]\n"
          ],
          "name": "stdout"
        }
      ]
    }
  ]
}