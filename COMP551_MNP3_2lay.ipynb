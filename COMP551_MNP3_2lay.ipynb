{
 "cells": [
  {
   "cell_type": "markdown",
   "metadata": {
    "id": "j6331ZSsQGY3"
   },
   "source": [
    "# COMP 551 - Mini-project 3\n",
    "Group 63"
   ]
  },
  {
   "cell_type": "code",
   "execution_count": 1,
   "metadata": {
    "id": "ifel1K0gBWt_"
   },
   "outputs": [],
   "source": [
    "import keras\n",
    "import numpy as np\n",
    "%matplotlib inline                                 \n",
    "import matplotlib.pyplot as plt\n",
    "from IPython.core.debugger import set_trace  \n",
    "import scipy.sparse as sparse\n",
    "import pandas as pd\n",
    "import seaborn as sns\n",
    "import os\n",
    "\n",
    "np.random.seed(1234)"
   ]
  },
  {
   "cell_type": "markdown",
   "metadata": {
    "id": "b08Mmbs8lr81"
   },
   "source": [
    "## Task 1. Data pre-processing\n",
    "\n",
    "- Load the raw data from Keras.\n",
    "- Vectorize 28*28 pictures to 1D vector.\n",
    "- Normalize the intensity of the pixel."
   ]
  },
  {
   "cell_type": "markdown",
   "metadata": {
    "id": "xZyGXlaKojgz"
   },
   "source": [
    "Load the MNIST dataset distributed with Keras. "
   ]
  },
  {
   "cell_type": "code",
   "execution_count": 2,
   "metadata": {
    "colab": {
     "base_uri": "https://localhost:8080/"
    },
    "id": "N01fKjwJDKAz",
    "outputId": "4c1ae7ea-cacc-4e5e-ad05-a710de52e6b5"
   },
   "outputs": [
    {
     "name": "stdout",
     "output_type": "stream",
     "text": [
      "(60000, 28, 28) (10000, 28, 28) (60000,) (10000,)\n"
     ]
    }
   ],
   "source": [
    "(x_train, y_train), (x_test, y_test) = keras.datasets.mnist.load_data()\n",
    "print(x_train.shape, x_test.shape, y_train.shape, y_test.shape)"
   ]
  },
  {
   "cell_type": "markdown",
   "metadata": {
    "id": "5rX8l1wVDOiN"
   },
   "source": [
    "Vectorize the 28*28 pictures to a 784 vector."
   ]
  },
  {
   "cell_type": "code",
   "execution_count": 3,
   "metadata": {
    "colab": {
     "base_uri": "https://localhost:8080/"
    },
    "id": "Y4gvmJN6DPxI",
    "outputId": "9532e485-d187-4c34-a766-ae634475bb4b"
   },
   "outputs": [
    {
     "name": "stdout",
     "output_type": "stream",
     "text": [
      "(60000, 784) (10000, 784)\n"
     ]
    }
   ],
   "source": [
    "x_train = np.reshape(x_train, (-1, 784)).astype('float32')\n",
    "x_test = np.reshape(x_test, (-1, 784)).astype('float32')\n",
    "print(x_train.shape, x_test.shape)"
   ]
  },
  {
   "cell_type": "markdown",
   "metadata": {
    "id": "LQqnKrdkEcw6"
   },
   "source": [
    "The intensity ranges from 0 to 255. We divide all intensities by the maximum (255) to obtain a [0-1] range."
   ]
  },
  {
   "cell_type": "code",
   "execution_count": 4,
   "metadata": {
    "colab": {
     "base_uri": "https://localhost:8080/"
    },
    "id": "P-s4iFV3Ez3H",
    "outputId": "55b3ccb0-3d28-4a6f-bf31-fa2b05d58518"
   },
   "outputs": [
    {
     "name": "stdout",
     "output_type": "stream",
     "text": [
      "Intensity before normalization: 0.0 255.0\n",
      "Intensity after normalization: 0.0 1.0\n"
     ]
    }
   ],
   "source": [
    "print('Intensity before normalization:', np.amin(x_train), np.amax(x_train))\n",
    "x_train, x_test = x_train/255.0, x_test/255.0\n",
    "print('Intensity after normalization:', np.amin(x_train), np.amax(x_train))"
   ]
  },
  {
   "cell_type": "markdown",
   "metadata": {
    "id": "MUnquDPg1D-k"
   },
   "source": [
    "We transform the (N,) vector of labels using one-hot encoding into a (N,C) matrix."
   ]
  },
  {
   "cell_type": "code",
   "execution_count": 5,
   "metadata": {
    "id": "9fXA7QipDn4Z"
   },
   "outputs": [],
   "source": [
    "y_train = keras.utils.to_categorical(y_train)\n",
    "y_test = keras.utils.to_categorical(y_test)"
   ]
  },
  {
   "cell_type": "code",
   "execution_count": 6,
   "metadata": {
    "colab": {
     "base_uri": "https://localhost:8080/"
    },
    "id": "9j0ZFP-81zIY",
    "outputId": "408de6a1-1486-4dc7-940e-ed4f5b270509"
   },
   "outputs": [
    {
     "name": "stdout",
     "output_type": "stream",
     "text": [
      "(60000, 10) (10000, 10)\n",
      "[[0. 0. 0. 0. 0. 1. 0. 0. 0. 0.]\n",
      " [1. 0. 0. 0. 0. 0. 0. 0. 0. 0.]\n",
      " [0. 0. 0. 0. 1. 0. 0. 0. 0. 0.]]\n"
     ]
    }
   ],
   "source": [
    "print(y_train.shape, y_test.shape)\n",
    "print(y_train[0:3,])"
   ]
  },
  {
   "cell_type": "markdown",
   "metadata": {
    "id": "UpKU5kZOJkEe"
   },
   "source": [
    "## Task 2. Multilayer perceptron implementation"
   ]
  },
  {
   "cell_type": "markdown",
   "metadata": {
    "id": "M6FNYQoRs0ue"
   },
   "source": [
    "### 2.1 Build the network\n",
    "Our task is a multiclass classification.The cost function will be the multi-class cross-entropy loss. We will use the following architecture:\n",
    "- output layer = softmax activation\n",
    "- 2 hidden layers: 128 units, ReLu activation\n"
   ]
  },
  {
   "cell_type": "markdown",
   "metadata": {
    "id": "NUW6HFnH43cv"
   },
   "source": [
    "First, we implement the activation functions."
   ]
  },
  {
   "cell_type": "code",
   "execution_count": 7,
   "metadata": {
    "id": "L1skqPZ_s0uq"
   },
   "outputs": [],
   "source": [
    "# softmax\n",
    "eps=1e-8\n",
    "def softmax(z):\n",
    "    logits = z - np.max(z) # for numerical stability\n",
    "    sum_logits = np.sum(np.exp(logits), axis=1) +eps\n",
    "    softmax = np.exp(logits)/sum_logits[:,None] \n",
    "    return softmax\n",
    "\n",
    "# relu\n",
    "relu = lambda z: np.maximum(0,z)\n",
    "\n",
    "# derivatives of relu (formula from backprop slides)\n",
    "def relu_dv(q):\n",
    "  q[q<=0] = 0\n",
    "  q[q>0] = 1\n",
    "  return q"
   ]
  },
  {
   "cell_type": "markdown",
   "metadata": {
    "id": "qxFKbS58_69S"
   },
   "source": [
    "Next, we build the MLP class."
   ]
  },
  {
   "cell_type": "code",
   "execution_count": 8,
   "metadata": {
    "id": "oKIoaax3f6f0"
   },
   "outputs": [],
   "source": [
    "# for 2 hidden layer with relu activation\n",
    "class MLP2layer_relu:\n",
    "    \n",
    "    def __init__(self, M = 128, cost=False):\n",
    "        self.M = M\n",
    "        self.cost = cost\n",
    "            \n",
    "    def fit(self, x_train, y_train, x_test, y_test, optimizer):\n",
    "        N = x_train.shape[0]\n",
    "        C = y_train.shape[1] # number of classes\n",
    "        D = x_train.shape[1]\n",
    "        def gradient(x, y, params):\n",
    "            v, w, u = params\n",
    "            # forward pass\n",
    "            n = x.shape[0]\n",
    "            # add bias to the input layer\n",
    "            x = np.column_stack([x,np.ones(n)*0.1])\n",
    "            # add bias to the hidden layers\n",
    "            b = np.ones((n,1))*0.1\n",
    "\n",
    "            q1 = np.dot(x, v) \n",
    "            z1 = relu(np.hstack((q1,b))) \n",
    "            q2 = np.dot(z1,w) \n",
    "            z2 = relu(np.hstack((q2,b)))\n",
    "            yh = softmax(np.dot(z2, u))#N x C\n",
    "            # backward pass \n",
    "            dy = yh - y #N x C\n",
    "            du = np.dot(z2.T,dy)/N \n",
    "            dz2 = np.dot(dy,u.T)\n",
    "            dz2 = np.delete(dz2, -1, axis=1)\n",
    "            dq2 = relu_dv(q2)\n",
    "            dw = np.dot(z1.T, dz2 * dq2)/N #M x C\n",
    "            dz1 = np.dot(dz2, w.T) #N x M\n",
    "            dz1 = np.delete(dz1,-1,axis=1)\n",
    "            dq1 = relu_dv(q1)\n",
    "            dv = np.dot(x.T, dz1 * dq1)/N #D x M\n",
    "            dparams = [dv, dw, du]\n",
    "            return dparams\n",
    "        \n",
    "        # initialize the parameters with values in the standard normal distribution and scaled to be low\n",
    "        u = np.random.randn(self.M+1,C) * 0.1 #M x C\n",
    "        w = np.random.randn(self.M+1,self.M) * .01 #M x M\n",
    "        v = np.random.randn(D+1,self.M) * .01 #D x M\n",
    "        \n",
    "        params0 = [v,w,u]\n",
    "\n",
    "        # run the mini-batch gradient descent to update the parameters\n",
    "        if self.cost == True:\n",
    "            self.params, self.train_loss, self.test_loss = optimizer.run(gradient, x_train, y_train, x_test, y_test, params0)\n",
    "        else:\n",
    "            self.params = optimizer.run(gradient, x_train, y_train, x_test, y_test, params0)\n",
    "        return self\n",
    "    \n",
    "    def predict(self, x):\n",
    "        v, w, u = self.params\n",
    "        # add bias to the input layer\n",
    "        Nt = x.shape[0]\n",
    "        x = np.column_stack([x,np.ones(Nt)*0.1])\n",
    "        b1 = np.ones((Nt,1))*0.1\n",
    "     \n",
    "        # forward pass only using updated parameters\n",
    "\n",
    "        q1 = np.dot(x,v)\n",
    "        z1 = relu(np.hstack((q1,b1)))\n",
    "        q2 = np.dot(z1,w)\n",
    "        z2 = relu(np.hstack((q2,b1)))\n",
    "        yh = softmax(np.dot(z2, u))#N x C\n",
    "        return yh"
   ]
  },
  {
   "cell_type": "markdown",
   "metadata": {
    "id": "65sh_GyGNkqO"
   },
   "source": [
    "### 2.2 Implement the cost and accuracy function\n",
    "\n"
   ]
  },
  {
   "cell_type": "code",
   "execution_count": 9,
   "metadata": {
    "id": "IgiPvgSbNuZG"
   },
   "outputs": [],
   "source": [
    "# Softmax cross entropy \n",
    "def logsumexp(Z):                                                # dimension N x C\n",
    "    Zmax = np.max(Z,axis=1)[:,None]                              # max over C\n",
    "    log_sum_exp = Zmax + np.log(np.sum(np.exp(Z - Zmax), axis=1))\n",
    "    return log_sum_exp\n",
    "\n",
    "# cost for relu activation - two layers\n",
    "def cost_relu(x, y, params):\n",
    "  Nt = x.shape[0]\n",
    "  v, w, u = params\n",
    "  b1 = np.ones((Nt,1))*0.1\n",
    "  xb = np.column_stack([x,np.ones(Nt)*0.1])\n",
    "  q1 = np.dot(xb, v) \n",
    "  z1 = relu(np.hstack((q1,b1))) \n",
    "  q2 = np.dot(z1,w)\n",
    "  z2 = relu(np.hstack((q2,b1)))\n",
    "  q3 = np.dot(z2, u) #N x C\n",
    "  nll = - np.mean(np.sum(q3*y, 1) - logsumexp(q3)) \n",
    "  return nll\n",
    "  \n",
    "\n",
    "# Accuracy\n",
    "def evaluate_acc(y, yh):\n",
    "  y_pred = np.argmax(yh,axis=1)\n",
    "  accuracy = np.count_nonzero(y_pred == np.argmax(y,axis=1))/y.shape[0]\n",
    "  return accuracy"
   ]
  },
  {
   "cell_type": "markdown",
   "metadata": {
    "id": "dhwM1bbNO1Fe"
   },
   "source": [
    "### 2.3. Implement the cross-validation function"
   ]
  },
  {
   "cell_type": "code",
   "execution_count": 10,
   "metadata": {
    "id": "MDnvWrREO42b"
   },
   "outputs": [],
   "source": [
    "def cross_validate(n, n_folds=6):\n",
    "    #get the number of data samples in each split\n",
    "    n_val = n // n_folds\n",
    "    inds = np.random.permutation(n)\n",
    "    inds = []\n",
    "    for f in range(n_folds):\n",
    "        tr_inds = []\n",
    "        #get the validation indexes\n",
    "        val_inds = list(range(f * n_val, (f+1)*n_val))\n",
    "        #get the train indexes\n",
    "        if f > 0:\n",
    "            tr_inds = list(range(f*n_val))\n",
    "        if f < n_folds - 1:\n",
    "            tr_inds = tr_inds + list(range((f+1)*n_val, n))\n",
    "        #The yield statement suspends function’s execution and sends a value back to the caller\n",
    "        #but retains enough state information to enable function to resume where it is left off\n",
    "        yield tr_inds, val_inds"
   ]
  },
  {
   "cell_type": "markdown",
   "metadata": {
    "id": "UzCYnVR2OZ7c"
   },
   "source": [
    "### 2.4 Implement the optimizer\n",
    "\n",
    "We will use a mini-batch gradient-descent algorithm."
   ]
  },
  {
   "cell_type": "code",
   "execution_count": 11,
   "metadata": {
    "id": "1u1OikUgk3hk"
   },
   "outputs": [],
   "source": [
    "def create_mini_batch(x, y, batch_size): \n",
    "    D = x.shape[1]\n",
    "    data = np.hstack((x, y))\n",
    "    np.random.shuffle(data)\n",
    "    mini = data[:batch_size,:]                                                    \n",
    "    x_mini = mini[:,:D]\n",
    "    y_mini = mini[:,D:]\n",
    "    return x_mini, y_mini"
   ]
  },
  {
   "cell_type": "code",
   "execution_count": 12,
   "metadata": {
    "id": "AhCrG89Es0us"
   },
   "outputs": [],
   "source": [
    "class GradientDescent:\n",
    "    \n",
    "    def __init__(self, learning_rate=.001, epsilon=1e-8, batch_size=100, iters=600, epochs=50, cost=False):\n",
    "        self.learning_rate = learning_rate\n",
    "        self.iters = iters\n",
    "        self.epsilon = epsilon\n",
    "        self.batch_size = batch_size\n",
    "        self.epochs = epochs\n",
    "        self.cost = cost\n",
    "        \n",
    "    def run(self, gradient_fn, x_train, y_train, x_test, y_test, params):\n",
    "      if self.cost == True:\n",
    "        epoch = 1\n",
    "        train_losses = []\n",
    "        test_losses = []\n",
    "        for epoch in range(self.epochs):\n",
    "          train_epoch_loss = []\n",
    "          test_epoch_loss = []\n",
    "          for t in range(self.iters):\n",
    "            x_mini, y_mini = create_mini_batch(x_train, y_train, self.batch_size)\n",
    "            train_loss = cost_relu(x_mini, y_mini, params)\n",
    "            test_loss = cost_relu(x_test, y_test, params)\n",
    "            grad = gradient_fn(x_mini, y_mini, params)\n",
    "            for p in range(len(params)):\n",
    "                params[p] -= self.learning_rate * grad[p]\n",
    "            if t % self.iters == 0:\n",
    "              print(f\"Epoch: {epoch+1}, Train error: {train_loss:.4f}, Test error: {test_loss:.4f}\")\n",
    "              epoch += 1\n",
    "            train_epoch_loss.append(train_loss)\n",
    "            test_epoch_loss.append(test_loss)\n",
    "          train_losses.append(np.mean(train_epoch_loss))\n",
    "          test_losses.append(np.mean(test_epoch_loss))\n",
    "        return params, train_losses, test_losses\n",
    "      else:     \n",
    "        norms = np.array([np.inf])\n",
    "        t = 1\n",
    "        while np.any(norms > self.epsilon) and t<self.iters:\n",
    "            # create mini-batch\n",
    "            x_mini, y_mini = create_mini_batch(x_train, y_train, self.batch_size)\n",
    "            # calculate gradient for the mini-batch\n",
    "            grad = gradient_fn(x_mini, y_mini, params)\n",
    "            # update v and dw\n",
    "            for p in range(len(params)):\n",
    "                params[p] -= self.learning_rate * grad[p]\n",
    "            t += 1\n",
    "            norms = np.array([np.linalg.norm(g) for g in grad])\n",
    "        return params\n"
   ]
  },
  {
   "cell_type": "markdown",
   "metadata": {
    "id": "mlT4tqWfOqH1"
   },
   "source": [
    "## Task 3. Run the experiments"
   ]
  },
  {
   "cell_type": "markdown",
   "metadata": {
    "id": "IJ-WzYlJ39Un"
   },
   "source": [
    "### 3.1. Learning rate tuning with cross-validation"
   ]
  },
  {
   "cell_type": "code",
   "execution_count": 13,
   "metadata": {
    "colab": {
     "base_uri": "https://localhost:8080/",
     "height": 375
    },
    "id": "FTtvzLriPGhi",
    "outputId": "17562f4f-c211-4dc2-d961-e99baf4278c8"
   },
   "outputs": [
    {
     "name": "stdout",
     "output_type": "stream",
     "text": [
      "For learning rate = 0.1 and fold 0 the accuracy is: 0.56585\n",
      "For learning rate = 0.1 and fold 1 the accuracy is: 0.57295\n",
      "For learning rate = 0.1 and fold 2 the accuracy is: 0.59255\n",
      "For learning rate = 1 and fold 0 the accuracy is: 0.91285\n",
      "For learning rate = 1 and fold 1 the accuracy is: 0.90925\n",
      "For learning rate = 1 and fold 2 the accuracy is: 0.9145\n"
     ]
    },
    {
     "name": "stderr",
     "output_type": "stream",
     "text": [
      "/opt/conda/lib/python3.7/site-packages/ipykernel_launcher.py:7: RuntimeWarning: invalid value encountered in subtract\n",
      "  import sys\n"
     ]
    },
    {
     "name": "stdout",
     "output_type": "stream",
     "text": [
      "For learning rate = 10 and fold 0 the accuracy is: 0.0997\n",
      "For learning rate = 10 and fold 1 the accuracy is: 0.0965\n",
      "For learning rate = 10 and fold 2 the accuracy is: 0.09995\n"
     ]
    }
   ],
   "source": [
    "learning_list = [0.1,1,10]\n",
    "\n",
    "num_folds = 3\n",
    "acc_valid = np.zeros((len(learning_list), num_folds))\n",
    "for i, learning in enumerate(learning_list):\n",
    "    #Find the validation accuracy for num_folds splits for a given learning rate\n",
    "    for f, (tr, val) in enumerate(cross_validate(x_train.shape[0], num_folds)):\n",
    "        model = MLP2layer_relu(cost=False)\n",
    "        optimizer = GradientDescent(learning_rate=learning, epochs=100, iters=20000, cost=False)\n",
    "        model.fit(x_train[tr], y_train[tr], x_test, y_test, optimizer)\n",
    "        acc_valid[i, f] = evaluate_acc(y_train[val], model.predict(x_train[val]))\n",
    "        print('For learning rate =',learning,'and fold',f,'the accuracy is:',acc_valid[i, f])"
   ]
  },
  {
   "cell_type": "code",
   "execution_count": 15,
   "metadata": {},
   "outputs": [
    {
     "data": {
      "image/png": "[encoded data removed]",
      "text/plain": [
       "<Figure size 432x288 with 1 Axes>"
      ]
     },
     "metadata": {
      "needs_background": "light"
     },
     "output_type": "display_data"
    }
   ],
   "source": [
    "plt.errorbar(learning_list, np.mean(acc_valid, axis=1), np.std(acc_valid, axis=1))\n",
    "plt.xlabel('Learning rate')\n",
    "plt.ylabel('Accuracy')\n",
    "plt.show()"
   ]
  },
  {
   "cell_type": "code",
   "execution_count": 26,
   "metadata": {},
   "outputs": [
    {
     "name": "stdout",
     "output_type": "stream",
     "text": [
      "For learning rate = 2 and fold 0 the accuracy is: 0.9356\n"
     ]
    },
    {
     "name": "stderr",
     "output_type": "stream",
     "text": [
      "/opt/conda/lib/python3.7/site-packages/ipykernel_launcher.py:7: RuntimeWarning: invalid value encountered in subtract\n",
      "  import sys\n"
     ]
    },
    {
     "name": "stdout",
     "output_type": "stream",
     "text": [
      "For learning rate = 2 and fold 1 the accuracy is: 0.0965\n",
      "For learning rate = 2 and fold 2 the accuracy is: 0.93715\n",
      "For learning rate = 5 and fold 0 the accuracy is: 0.0997\n"
     ]
    },
    {
     "ename": "KeyboardInterrupt",
     "evalue": "",
     "output_type": "error",
     "traceback": [
      "\u001b[0;31m---------------------------------------------------------------------------\u001b[0m",
      "\u001b[0;31mKeyboardInterrupt\u001b[0m                         Traceback (most recent call last)",
      "\u001b[0;32m<ipython-input-26-27d1f493178a>\u001b[0m in \u001b[0;36m<module>\u001b[0;34m\u001b[0m\n\u001b[1;32m      8\u001b[0m         \u001b[0mmodel\u001b[0m \u001b[0;34m=\u001b[0m \u001b[0mMLP2layer_relu\u001b[0m\u001b[0;34m(\u001b[0m\u001b[0mcost\u001b[0m\u001b[0;34m=\u001b[0m\u001b[0;32mFalse\u001b[0m\u001b[0;34m)\u001b[0m\u001b[0;34m\u001b[0m\u001b[0;34m\u001b[0m\u001b[0m\n\u001b[1;32m      9\u001b[0m         \u001b[0moptimizer\u001b[0m \u001b[0;34m=\u001b[0m \u001b[0mGradientDescent\u001b[0m\u001b[0;34m(\u001b[0m\u001b[0mlearning_rate\u001b[0m\u001b[0;34m=\u001b[0m\u001b[0mlearning\u001b[0m\u001b[0;34m,\u001b[0m \u001b[0mepochs\u001b[0m\u001b[0;34m=\u001b[0m\u001b[0;36m100\u001b[0m\u001b[0;34m,\u001b[0m \u001b[0miters\u001b[0m\u001b[0;34m=\u001b[0m\u001b[0;36m20000\u001b[0m\u001b[0;34m,\u001b[0m \u001b[0mcost\u001b[0m\u001b[0;34m=\u001b[0m\u001b[0;32mFalse\u001b[0m\u001b[0;34m)\u001b[0m\u001b[0;34m\u001b[0m\u001b[0;34m\u001b[0m\u001b[0m\n\u001b[0;32m---> 10\u001b[0;31m         \u001b[0mmodel\u001b[0m\u001b[0;34m.\u001b[0m\u001b[0mfit\u001b[0m\u001b[0;34m(\u001b[0m\u001b[0mx_train\u001b[0m\u001b[0;34m[\u001b[0m\u001b[0mtr\u001b[0m\u001b[0;34m]\u001b[0m\u001b[0;34m,\u001b[0m \u001b[0my_train\u001b[0m\u001b[0;34m[\u001b[0m\u001b[0mtr\u001b[0m\u001b[0;34m]\u001b[0m\u001b[0;34m,\u001b[0m \u001b[0mx_test\u001b[0m\u001b[0;34m,\u001b[0m \u001b[0my_test\u001b[0m\u001b[0;34m,\u001b[0m \u001b[0moptimizer\u001b[0m\u001b[0;34m)\u001b[0m\u001b[0;34m\u001b[0m\u001b[0;34m\u001b[0m\u001b[0m\n\u001b[0m\u001b[1;32m     11\u001b[0m         \u001b[0macc_valid\u001b[0m\u001b[0;34m[\u001b[0m\u001b[0mi\u001b[0m\u001b[0;34m,\u001b[0m \u001b[0mf\u001b[0m\u001b[0;34m]\u001b[0m \u001b[0;34m=\u001b[0m \u001b[0mevaluate_acc\u001b[0m\u001b[0;34m(\u001b[0m\u001b[0my_train\u001b[0m\u001b[0;34m[\u001b[0m\u001b[0mval\u001b[0m\u001b[0;34m]\u001b[0m\u001b[0;34m,\u001b[0m \u001b[0mmodel\u001b[0m\u001b[0;34m.\u001b[0m\u001b[0mpredict\u001b[0m\u001b[0;34m(\u001b[0m\u001b[0mx_train\u001b[0m\u001b[0;34m[\u001b[0m\u001b[0mval\u001b[0m\u001b[0;34m]\u001b[0m\u001b[0;34m)\u001b[0m\u001b[0;34m)\u001b[0m\u001b[0;34m\u001b[0m\u001b[0;34m\u001b[0m\u001b[0m\n\u001b[1;32m     12\u001b[0m         \u001b[0mprint\u001b[0m\u001b[0;34m(\u001b[0m\u001b[0;34m'For learning rate ='\u001b[0m\u001b[0;34m,\u001b[0m\u001b[0mlearning\u001b[0m\u001b[0;34m,\u001b[0m\u001b[0;34m'and fold'\u001b[0m\u001b[0;34m,\u001b[0m\u001b[0mf\u001b[0m\u001b[0;34m,\u001b[0m\u001b[0;34m'the accuracy is:'\u001b[0m\u001b[0;34m,\u001b[0m\u001b[0macc_valid\u001b[0m\u001b[0;34m[\u001b[0m\u001b[0mi\u001b[0m\u001b[0;34m,\u001b[0m \u001b[0mf\u001b[0m\u001b[0;34m]\u001b[0m\u001b[0;34m)\u001b[0m\u001b[0;34m\u001b[0m\u001b[0;34m\u001b[0m\u001b[0m\n",
      "\u001b[0;32m<ipython-input-8-d40bc0a17864>\u001b[0m in \u001b[0;36mfit\u001b[0;34m(self, x_train, y_train, x_test, y_test, optimizer)\u001b[0m\n\u001b[1;32m     53\u001b[0m             \u001b[0mself\u001b[0m\u001b[0;34m.\u001b[0m\u001b[0mparams\u001b[0m\u001b[0;34m,\u001b[0m \u001b[0mself\u001b[0m\u001b[0;34m.\u001b[0m\u001b[0mtrain_loss\u001b[0m\u001b[0;34m,\u001b[0m \u001b[0mself\u001b[0m\u001b[0;34m.\u001b[0m\u001b[0mtest_loss\u001b[0m \u001b[0;34m=\u001b[0m \u001b[0moptimizer\u001b[0m\u001b[0;34m.\u001b[0m\u001b[0mrun\u001b[0m\u001b[0;34m(\u001b[0m\u001b[0mgradient\u001b[0m\u001b[0;34m,\u001b[0m \u001b[0mx_train\u001b[0m\u001b[0;34m,\u001b[0m \u001b[0my_train\u001b[0m\u001b[0;34m,\u001b[0m \u001b[0mx_test\u001b[0m\u001b[0;34m,\u001b[0m \u001b[0my_test\u001b[0m\u001b[0;34m,\u001b[0m \u001b[0mparams0\u001b[0m\u001b[0;34m)\u001b[0m\u001b[0;34m\u001b[0m\u001b[0;34m\u001b[0m\u001b[0m\n\u001b[1;32m     54\u001b[0m         \u001b[0;32melse\u001b[0m\u001b[0;34m:\u001b[0m\u001b[0;34m\u001b[0m\u001b[0;34m\u001b[0m\u001b[0m\n\u001b[0;32m---> 55\u001b[0;31m             \u001b[0mself\u001b[0m\u001b[0;34m.\u001b[0m\u001b[0mparams\u001b[0m \u001b[0;34m=\u001b[0m \u001b[0moptimizer\u001b[0m\u001b[0;34m.\u001b[0m\u001b[0mrun\u001b[0m\u001b[0;34m(\u001b[0m\u001b[0mgradient\u001b[0m\u001b[0;34m,\u001b[0m \u001b[0mx_train\u001b[0m\u001b[0;34m,\u001b[0m \u001b[0my_train\u001b[0m\u001b[0;34m,\u001b[0m \u001b[0mx_test\u001b[0m\u001b[0;34m,\u001b[0m \u001b[0my_test\u001b[0m\u001b[0;34m,\u001b[0m \u001b[0mparams0\u001b[0m\u001b[0;34m)\u001b[0m\u001b[0;34m\u001b[0m\u001b[0;34m\u001b[0m\u001b[0m\n\u001b[0m\u001b[1;32m     56\u001b[0m         \u001b[0;32mreturn\u001b[0m \u001b[0mself\u001b[0m\u001b[0;34m\u001b[0m\u001b[0;34m\u001b[0m\u001b[0m\n\u001b[1;32m     57\u001b[0m \u001b[0;34m\u001b[0m\u001b[0m\n",
      "\u001b[0;32m<ipython-input-12-98f6b3671b36>\u001b[0m in \u001b[0;36mrun\u001b[0;34m(self, gradient_fn, x_train, y_train, x_test, y_test, params)\u001b[0m\n\u001b[1;32m     37\u001b[0m         \u001b[0;32mwhile\u001b[0m \u001b[0mnp\u001b[0m\u001b[0;34m.\u001b[0m\u001b[0many\u001b[0m\u001b[0;34m(\u001b[0m\u001b[0mnorms\u001b[0m \u001b[0;34m>\u001b[0m \u001b[0mself\u001b[0m\u001b[0;34m.\u001b[0m\u001b[0mepsilon\u001b[0m\u001b[0;34m)\u001b[0m \u001b[0;32mand\u001b[0m \u001b[0mt\u001b[0m\u001b[0;34m<\u001b[0m\u001b[0mself\u001b[0m\u001b[0;34m.\u001b[0m\u001b[0miters\u001b[0m\u001b[0;34m:\u001b[0m\u001b[0;34m\u001b[0m\u001b[0;34m\u001b[0m\u001b[0m\n\u001b[1;32m     38\u001b[0m             \u001b[0;31m# create mini-batch\u001b[0m\u001b[0;34m\u001b[0m\u001b[0;34m\u001b[0m\u001b[0;34m\u001b[0m\u001b[0m\n\u001b[0;32m---> 39\u001b[0;31m             \u001b[0mx_mini\u001b[0m\u001b[0;34m,\u001b[0m \u001b[0my_mini\u001b[0m \u001b[0;34m=\u001b[0m \u001b[0mcreate_mini_batch\u001b[0m\u001b[0;34m(\u001b[0m\u001b[0mx_train\u001b[0m\u001b[0;34m,\u001b[0m \u001b[0my_train\u001b[0m\u001b[0;34m,\u001b[0m \u001b[0mself\u001b[0m\u001b[0;34m.\u001b[0m\u001b[0mbatch_size\u001b[0m\u001b[0;34m)\u001b[0m\u001b[0;34m\u001b[0m\u001b[0;34m\u001b[0m\u001b[0m\n\u001b[0m\u001b[1;32m     40\u001b[0m             \u001b[0;31m# calculate gradient for the mini-batch\u001b[0m\u001b[0;34m\u001b[0m\u001b[0;34m\u001b[0m\u001b[0;34m\u001b[0m\u001b[0m\n\u001b[1;32m     41\u001b[0m             \u001b[0mgrad\u001b[0m \u001b[0;34m=\u001b[0m \u001b[0mgradient_fn\u001b[0m\u001b[0;34m(\u001b[0m\u001b[0mx_mini\u001b[0m\u001b[0;34m,\u001b[0m \u001b[0my_mini\u001b[0m\u001b[0;34m,\u001b[0m \u001b[0mparams\u001b[0m\u001b[0;34m)\u001b[0m\u001b[0;34m\u001b[0m\u001b[0;34m\u001b[0m\u001b[0m\n",
      "\u001b[0;32m<ipython-input-11-1b119249170a>\u001b[0m in \u001b[0;36mcreate_mini_batch\u001b[0;34m(x, y, batch_size)\u001b[0m\n\u001b[1;32m      1\u001b[0m \u001b[0;32mdef\u001b[0m \u001b[0mcreate_mini_batch\u001b[0m\u001b[0;34m(\u001b[0m\u001b[0mx\u001b[0m\u001b[0;34m,\u001b[0m \u001b[0my\u001b[0m\u001b[0;34m,\u001b[0m \u001b[0mbatch_size\u001b[0m\u001b[0;34m)\u001b[0m\u001b[0;34m:\u001b[0m\u001b[0;34m\u001b[0m\u001b[0;34m\u001b[0m\u001b[0m\n\u001b[1;32m      2\u001b[0m     \u001b[0mD\u001b[0m \u001b[0;34m=\u001b[0m \u001b[0mx\u001b[0m\u001b[0;34m.\u001b[0m\u001b[0mshape\u001b[0m\u001b[0;34m[\u001b[0m\u001b[0;36m1\u001b[0m\u001b[0;34m]\u001b[0m\u001b[0;34m\u001b[0m\u001b[0;34m\u001b[0m\u001b[0m\n\u001b[0;32m----> 3\u001b[0;31m     \u001b[0mdata\u001b[0m \u001b[0;34m=\u001b[0m \u001b[0mnp\u001b[0m\u001b[0;34m.\u001b[0m\u001b[0mhstack\u001b[0m\u001b[0;34m(\u001b[0m\u001b[0;34m(\u001b[0m\u001b[0mx\u001b[0m\u001b[0;34m,\u001b[0m \u001b[0my\u001b[0m\u001b[0;34m)\u001b[0m\u001b[0;34m)\u001b[0m\u001b[0;34m\u001b[0m\u001b[0;34m\u001b[0m\u001b[0m\n\u001b[0m\u001b[1;32m      4\u001b[0m     \u001b[0mnp\u001b[0m\u001b[0;34m.\u001b[0m\u001b[0mrandom\u001b[0m\u001b[0;34m.\u001b[0m\u001b[0mshuffle\u001b[0m\u001b[0;34m(\u001b[0m\u001b[0mdata\u001b[0m\u001b[0;34m)\u001b[0m\u001b[0;34m\u001b[0m\u001b[0;34m\u001b[0m\u001b[0m\n\u001b[1;32m      5\u001b[0m     \u001b[0mmini\u001b[0m \u001b[0;34m=\u001b[0m \u001b[0mdata\u001b[0m\u001b[0;34m[\u001b[0m\u001b[0;34m:\u001b[0m\u001b[0mbatch_size\u001b[0m\u001b[0;34m,\u001b[0m\u001b[0;34m:\u001b[0m\u001b[0;34m]\u001b[0m\u001b[0;34m\u001b[0m\u001b[0;34m\u001b[0m\u001b[0m\n",
      "\u001b[0;32m<__array_function__ internals>\u001b[0m in \u001b[0;36mhstack\u001b[0;34m(*args, **kwargs)\u001b[0m\n",
      "\u001b[0;32m/opt/conda/lib/python3.7/site-packages/numpy/core/shape_base.py\u001b[0m in \u001b[0;36mhstack\u001b[0;34m(tup)\u001b[0m\n\u001b[1;32m    344\u001b[0m         \u001b[0;32mreturn\u001b[0m \u001b[0m_nx\u001b[0m\u001b[0;34m.\u001b[0m\u001b[0mconcatenate\u001b[0m\u001b[0;34m(\u001b[0m\u001b[0marrs\u001b[0m\u001b[0;34m,\u001b[0m \u001b[0;36m0\u001b[0m\u001b[0;34m)\u001b[0m\u001b[0;34m\u001b[0m\u001b[0;34m\u001b[0m\u001b[0m\n\u001b[1;32m    345\u001b[0m     \u001b[0;32melse\u001b[0m\u001b[0;34m:\u001b[0m\u001b[0;34m\u001b[0m\u001b[0;34m\u001b[0m\u001b[0m\n\u001b[0;32m--> 346\u001b[0;31m         \u001b[0;32mreturn\u001b[0m \u001b[0m_nx\u001b[0m\u001b[0;34m.\u001b[0m\u001b[0mconcatenate\u001b[0m\u001b[0;34m(\u001b[0m\u001b[0marrs\u001b[0m\u001b[0;34m,\u001b[0m \u001b[0;36m1\u001b[0m\u001b[0;34m)\u001b[0m\u001b[0;34m\u001b[0m\u001b[0;34m\u001b[0m\u001b[0m\n\u001b[0m\u001b[1;32m    347\u001b[0m \u001b[0;34m\u001b[0m\u001b[0m\n\u001b[1;32m    348\u001b[0m \u001b[0;34m\u001b[0m\u001b[0m\n",
      "\u001b[0;32m<__array_function__ internals>\u001b[0m in \u001b[0;36mconcatenate\u001b[0;34m(*args, **kwargs)\u001b[0m\n",
      "\u001b[0;31mKeyboardInterrupt\u001b[0m: "
     ]
    }
   ],
   "source": [
    "learning_list = [2,5,7]\n",
    "\n",
    "num_folds = 3\n",
    "acc_valid = np.zeros((len(learning_list), num_folds))\n",
    "for i, learning in enumerate(learning_list):\n",
    "    #Find the validation accuracy for num_folds splits for a given learning rate\n",
    "    for f, (tr, val) in enumerate(cross_validate(x_train.shape[0], num_folds)):\n",
    "        model = MLP2layer_relu(cost=False)\n",
    "        optimizer = GradientDescent(learning_rate=learning, epochs=100, iters=20000, cost=False)\n",
    "        model.fit(x_train[tr], y_train[tr], x_test, y_test, optimizer)\n",
    "        acc_valid[i, f] = evaluate_acc(y_train[val], model.predict(x_train[val]))\n",
    "        print('For learning rate =',learning,'and fold',f,'the accuracy is:',acc_valid[i, f])\n",
    "# Due to the very long running time we stopped the algorithm when we saw that 5 was not giving a good accuracy"
   ]
  },
  {
   "cell_type": "code",
   "execution_count": 29,
   "metadata": {},
   "outputs": [
    {
     "name": "stderr",
     "output_type": "stream",
     "text": [
      "/opt/conda/lib/python3.7/site-packages/ipykernel_launcher.py:7: RuntimeWarning: invalid value encountered in subtract\n",
      "  import sys\n"
     ]
    },
    {
     "name": "stdout",
     "output_type": "stream",
     "text": [
      "For learning rate = 2.2 and fold 0 the accuracy is: 0.0997\n",
      "For learning rate = 2.2 and fold 1 the accuracy is: 0.935\n",
      "For learning rate = 2.2 and fold 2 the accuracy is: 0.94075\n",
      "For learning rate = 2.5 and fold 0 the accuracy is: 0.94585\n",
      "For learning rate = 2.5 and fold 1 the accuracy is: 0.94185\n",
      "For learning rate = 2.5 and fold 2 the accuracy is: 0.9452\n",
      "For learning rate = 2.8 and fold 0 the accuracy is: 0.0997\n",
      "For learning rate = 2.8 and fold 1 the accuracy is: 0.94405\n"
     ]
    },
    {
     "ename": "KeyboardInterrupt",
     "evalue": "",
     "output_type": "error",
     "traceback": [
      "\u001b[0;31m---------------------------------------------------------------------------\u001b[0m",
      "\u001b[0;31mKeyboardInterrupt\u001b[0m                         Traceback (most recent call last)",
      "\u001b[0;32m<ipython-input-29-8469ddfcb3ee>\u001b[0m in \u001b[0;36m<module>\u001b[0;34m\u001b[0m\n\u001b[1;32m      8\u001b[0m         \u001b[0mmodel\u001b[0m \u001b[0;34m=\u001b[0m \u001b[0mMLP2layer_relu\u001b[0m\u001b[0;34m(\u001b[0m\u001b[0mcost\u001b[0m\u001b[0;34m=\u001b[0m\u001b[0;32mFalse\u001b[0m\u001b[0;34m)\u001b[0m\u001b[0;34m\u001b[0m\u001b[0;34m\u001b[0m\u001b[0m\n\u001b[1;32m      9\u001b[0m         \u001b[0moptimizer\u001b[0m \u001b[0;34m=\u001b[0m \u001b[0mGradientDescent\u001b[0m\u001b[0;34m(\u001b[0m\u001b[0mlearning_rate\u001b[0m\u001b[0;34m=\u001b[0m\u001b[0mlearning\u001b[0m\u001b[0;34m,\u001b[0m \u001b[0mepochs\u001b[0m\u001b[0;34m=\u001b[0m\u001b[0;36m100\u001b[0m\u001b[0;34m,\u001b[0m \u001b[0miters\u001b[0m\u001b[0;34m=\u001b[0m\u001b[0;36m20000\u001b[0m\u001b[0;34m,\u001b[0m \u001b[0mcost\u001b[0m\u001b[0;34m=\u001b[0m\u001b[0;32mFalse\u001b[0m\u001b[0;34m)\u001b[0m\u001b[0;34m\u001b[0m\u001b[0;34m\u001b[0m\u001b[0m\n\u001b[0;32m---> 10\u001b[0;31m         \u001b[0mmodel\u001b[0m\u001b[0;34m.\u001b[0m\u001b[0mfit\u001b[0m\u001b[0;34m(\u001b[0m\u001b[0mx_train\u001b[0m\u001b[0;34m[\u001b[0m\u001b[0mtr\u001b[0m\u001b[0;34m]\u001b[0m\u001b[0;34m,\u001b[0m \u001b[0my_train\u001b[0m\u001b[0;34m[\u001b[0m\u001b[0mtr\u001b[0m\u001b[0;34m]\u001b[0m\u001b[0;34m,\u001b[0m \u001b[0mx_test\u001b[0m\u001b[0;34m,\u001b[0m \u001b[0my_test\u001b[0m\u001b[0;34m,\u001b[0m \u001b[0moptimizer\u001b[0m\u001b[0;34m)\u001b[0m\u001b[0;34m\u001b[0m\u001b[0;34m\u001b[0m\u001b[0m\n\u001b[0m\u001b[1;32m     11\u001b[0m         \u001b[0macc_valid\u001b[0m\u001b[0;34m[\u001b[0m\u001b[0mi\u001b[0m\u001b[0;34m,\u001b[0m \u001b[0mf\u001b[0m\u001b[0;34m]\u001b[0m \u001b[0;34m=\u001b[0m \u001b[0mevaluate_acc\u001b[0m\u001b[0;34m(\u001b[0m\u001b[0my_train\u001b[0m\u001b[0;34m[\u001b[0m\u001b[0mval\u001b[0m\u001b[0;34m]\u001b[0m\u001b[0;34m,\u001b[0m \u001b[0mmodel\u001b[0m\u001b[0;34m.\u001b[0m\u001b[0mpredict\u001b[0m\u001b[0;34m(\u001b[0m\u001b[0mx_train\u001b[0m\u001b[0;34m[\u001b[0m\u001b[0mval\u001b[0m\u001b[0;34m]\u001b[0m\u001b[0;34m)\u001b[0m\u001b[0;34m)\u001b[0m\u001b[0;34m\u001b[0m\u001b[0;34m\u001b[0m\u001b[0m\n\u001b[1;32m     12\u001b[0m         \u001b[0mprint\u001b[0m\u001b[0;34m(\u001b[0m\u001b[0;34m'For learning rate ='\u001b[0m\u001b[0;34m,\u001b[0m\u001b[0mlearning\u001b[0m\u001b[0;34m,\u001b[0m\u001b[0;34m'and fold'\u001b[0m\u001b[0;34m,\u001b[0m\u001b[0mf\u001b[0m\u001b[0;34m,\u001b[0m\u001b[0;34m'the accuracy is:'\u001b[0m\u001b[0;34m,\u001b[0m\u001b[0macc_valid\u001b[0m\u001b[0;34m[\u001b[0m\u001b[0mi\u001b[0m\u001b[0;34m,\u001b[0m \u001b[0mf\u001b[0m\u001b[0;34m]\u001b[0m\u001b[0;34m)\u001b[0m\u001b[0;34m\u001b[0m\u001b[0;34m\u001b[0m\u001b[0m\n",
      "\u001b[0;32m<ipython-input-8-d40bc0a17864>\u001b[0m in \u001b[0;36mfit\u001b[0;34m(self, x_train, y_train, x_test, y_test, optimizer)\u001b[0m\n\u001b[1;32m     53\u001b[0m             \u001b[0mself\u001b[0m\u001b[0;34m.\u001b[0m\u001b[0mparams\u001b[0m\u001b[0;34m,\u001b[0m \u001b[0mself\u001b[0m\u001b[0;34m.\u001b[0m\u001b[0mtrain_loss\u001b[0m\u001b[0;34m,\u001b[0m \u001b[0mself\u001b[0m\u001b[0;34m.\u001b[0m\u001b[0mtest_loss\u001b[0m \u001b[0;34m=\u001b[0m \u001b[0moptimizer\u001b[0m\u001b[0;34m.\u001b[0m\u001b[0mrun\u001b[0m\u001b[0;34m(\u001b[0m\u001b[0mgradient\u001b[0m\u001b[0;34m,\u001b[0m \u001b[0mx_train\u001b[0m\u001b[0;34m,\u001b[0m \u001b[0my_train\u001b[0m\u001b[0;34m,\u001b[0m \u001b[0mx_test\u001b[0m\u001b[0;34m,\u001b[0m \u001b[0my_test\u001b[0m\u001b[0;34m,\u001b[0m \u001b[0mparams0\u001b[0m\u001b[0;34m)\u001b[0m\u001b[0;34m\u001b[0m\u001b[0;34m\u001b[0m\u001b[0m\n\u001b[1;32m     54\u001b[0m         \u001b[0;32melse\u001b[0m\u001b[0;34m:\u001b[0m\u001b[0;34m\u001b[0m\u001b[0;34m\u001b[0m\u001b[0m\n\u001b[0;32m---> 55\u001b[0;31m             \u001b[0mself\u001b[0m\u001b[0;34m.\u001b[0m\u001b[0mparams\u001b[0m \u001b[0;34m=\u001b[0m \u001b[0moptimizer\u001b[0m\u001b[0;34m.\u001b[0m\u001b[0mrun\u001b[0m\u001b[0;34m(\u001b[0m\u001b[0mgradient\u001b[0m\u001b[0;34m,\u001b[0m \u001b[0mx_train\u001b[0m\u001b[0;34m,\u001b[0m \u001b[0my_train\u001b[0m\u001b[0;34m,\u001b[0m \u001b[0mx_test\u001b[0m\u001b[0;34m,\u001b[0m \u001b[0my_test\u001b[0m\u001b[0;34m,\u001b[0m \u001b[0mparams0\u001b[0m\u001b[0;34m)\u001b[0m\u001b[0;34m\u001b[0m\u001b[0;34m\u001b[0m\u001b[0m\n\u001b[0m\u001b[1;32m     56\u001b[0m         \u001b[0;32mreturn\u001b[0m \u001b[0mself\u001b[0m\u001b[0;34m\u001b[0m\u001b[0;34m\u001b[0m\u001b[0m\n\u001b[1;32m     57\u001b[0m \u001b[0;34m\u001b[0m\u001b[0m\n",
      "\u001b[0;32m<ipython-input-12-98f6b3671b36>\u001b[0m in \u001b[0;36mrun\u001b[0;34m(self, gradient_fn, x_train, y_train, x_test, y_test, params)\u001b[0m\n\u001b[1;32m     37\u001b[0m         \u001b[0;32mwhile\u001b[0m \u001b[0mnp\u001b[0m\u001b[0;34m.\u001b[0m\u001b[0many\u001b[0m\u001b[0;34m(\u001b[0m\u001b[0mnorms\u001b[0m \u001b[0;34m>\u001b[0m \u001b[0mself\u001b[0m\u001b[0;34m.\u001b[0m\u001b[0mepsilon\u001b[0m\u001b[0;34m)\u001b[0m \u001b[0;32mand\u001b[0m \u001b[0mt\u001b[0m\u001b[0;34m<\u001b[0m\u001b[0mself\u001b[0m\u001b[0;34m.\u001b[0m\u001b[0miters\u001b[0m\u001b[0;34m:\u001b[0m\u001b[0;34m\u001b[0m\u001b[0;34m\u001b[0m\u001b[0m\n\u001b[1;32m     38\u001b[0m             \u001b[0;31m# create mini-batch\u001b[0m\u001b[0;34m\u001b[0m\u001b[0;34m\u001b[0m\u001b[0;34m\u001b[0m\u001b[0m\n\u001b[0;32m---> 39\u001b[0;31m             \u001b[0mx_mini\u001b[0m\u001b[0;34m,\u001b[0m \u001b[0my_mini\u001b[0m \u001b[0;34m=\u001b[0m \u001b[0mcreate_mini_batch\u001b[0m\u001b[0;34m(\u001b[0m\u001b[0mx_train\u001b[0m\u001b[0;34m,\u001b[0m \u001b[0my_train\u001b[0m\u001b[0;34m,\u001b[0m \u001b[0mself\u001b[0m\u001b[0;34m.\u001b[0m\u001b[0mbatch_size\u001b[0m\u001b[0;34m)\u001b[0m\u001b[0;34m\u001b[0m\u001b[0;34m\u001b[0m\u001b[0m\n\u001b[0m\u001b[1;32m     40\u001b[0m             \u001b[0;31m# calculate gradient for the mini-batch\u001b[0m\u001b[0;34m\u001b[0m\u001b[0;34m\u001b[0m\u001b[0;34m\u001b[0m\u001b[0m\n\u001b[1;32m     41\u001b[0m             \u001b[0mgrad\u001b[0m \u001b[0;34m=\u001b[0m \u001b[0mgradient_fn\u001b[0m\u001b[0;34m(\u001b[0m\u001b[0mx_mini\u001b[0m\u001b[0;34m,\u001b[0m \u001b[0my_mini\u001b[0m\u001b[0;34m,\u001b[0m \u001b[0mparams\u001b[0m\u001b[0;34m)\u001b[0m\u001b[0;34m\u001b[0m\u001b[0;34m\u001b[0m\u001b[0m\n",
      "\u001b[0;32m<ipython-input-11-1b119249170a>\u001b[0m in \u001b[0;36mcreate_mini_batch\u001b[0;34m(x, y, batch_size)\u001b[0m\n\u001b[1;32m      2\u001b[0m     \u001b[0mD\u001b[0m \u001b[0;34m=\u001b[0m \u001b[0mx\u001b[0m\u001b[0;34m.\u001b[0m\u001b[0mshape\u001b[0m\u001b[0;34m[\u001b[0m\u001b[0;36m1\u001b[0m\u001b[0;34m]\u001b[0m\u001b[0;34m\u001b[0m\u001b[0;34m\u001b[0m\u001b[0m\n\u001b[1;32m      3\u001b[0m     \u001b[0mdata\u001b[0m \u001b[0;34m=\u001b[0m \u001b[0mnp\u001b[0m\u001b[0;34m.\u001b[0m\u001b[0mhstack\u001b[0m\u001b[0;34m(\u001b[0m\u001b[0;34m(\u001b[0m\u001b[0mx\u001b[0m\u001b[0;34m,\u001b[0m \u001b[0my\u001b[0m\u001b[0;34m)\u001b[0m\u001b[0;34m)\u001b[0m\u001b[0;34m\u001b[0m\u001b[0;34m\u001b[0m\u001b[0m\n\u001b[0;32m----> 4\u001b[0;31m     \u001b[0mnp\u001b[0m\u001b[0;34m.\u001b[0m\u001b[0mrandom\u001b[0m\u001b[0;34m.\u001b[0m\u001b[0mshuffle\u001b[0m\u001b[0;34m(\u001b[0m\u001b[0mdata\u001b[0m\u001b[0;34m)\u001b[0m\u001b[0;34m\u001b[0m\u001b[0;34m\u001b[0m\u001b[0m\n\u001b[0m\u001b[1;32m      5\u001b[0m     \u001b[0mmini\u001b[0m \u001b[0;34m=\u001b[0m \u001b[0mdata\u001b[0m\u001b[0;34m[\u001b[0m\u001b[0;34m:\u001b[0m\u001b[0mbatch_size\u001b[0m\u001b[0;34m,\u001b[0m\u001b[0;34m:\u001b[0m\u001b[0;34m]\u001b[0m\u001b[0;34m\u001b[0m\u001b[0;34m\u001b[0m\u001b[0m\n\u001b[1;32m      6\u001b[0m     \u001b[0mx_mini\u001b[0m \u001b[0;34m=\u001b[0m \u001b[0mmini\u001b[0m\u001b[0;34m[\u001b[0m\u001b[0;34m:\u001b[0m\u001b[0;34m,\u001b[0m\u001b[0;34m:\u001b[0m\u001b[0mD\u001b[0m\u001b[0;34m]\u001b[0m\u001b[0;34m\u001b[0m\u001b[0;34m\u001b[0m\u001b[0m\n",
      "\u001b[0;31mKeyboardInterrupt\u001b[0m: "
     ]
    }
   ],
   "source": [
    "learning_list = [2.2,2.5,2.8]\n",
    "\n",
    "num_folds = 3\n",
    "acc_valid = np.zeros((len(learning_list), num_folds))\n",
    "for i, learning in enumerate(learning_list):\n",
    "    #Find the validation accuracy for num_folds splits for a given learning rate\n",
    "    for f, (tr, val) in enumerate(cross_validate(x_train.shape[0], num_folds)):\n",
    "        model = MLP2layer_relu(cost=False)\n",
    "        optimizer = GradientDescent(learning_rate=learning, epochs=100, iters=20000, cost=False)\n",
    "        model.fit(x_train[tr], y_train[tr], x_test, y_test, optimizer)\n",
    "        acc_valid[i, f] = evaluate_acc(y_train[val], model.predict(x_train[val]))\n",
    "        print('For learning rate =',learning,'and fold',f,'the accuracy is:',acc_valid[i, f])\n",
    "# Due to the very long running time we stopped the algorithm when we saw that 2.5 was giving a good accuracy and 2.8 had numercial problems"
   ]
  },
  {
   "cell_type": "markdown",
   "metadata": {},
   "source": [
    "### 3.2 Performance of the model and confusion matrix"
   ]
  },
  {
   "cell_type": "code",
   "execution_count": 14,
   "metadata": {},
   "outputs": [
    {
     "name": "stdout",
     "output_type": "stream",
     "text": [
      "the accuracy is 93.7.\n"
     ]
    }
   ],
   "source": [
    "model = MLP2layer_relu()\n",
    "optimizer = GradientDescent(learning_rate=2.5, epochs=100, iters=20000, cost=False)\n",
    "model.fit(x_train, y_train, x_test, y_test, optimizer)\n",
    "acc = evaluate_acc(y_test, model.predict(x_test))\n",
    "print(f'the accuracy is {acc*100:.1f}.')"
   ]
  },
  {
   "cell_type": "code",
   "execution_count": 28,
   "metadata": {},
   "outputs": [
    {
     "name": "stdout",
     "output_type": "stream",
     "text": [
      "[[ 959.    0.    1.    1.    0.    3.   10.    2.    4.    0.]\n",
      " [   0. 1111.    4.    2.    1.    1.    3.    2.   11.    0.]\n",
      " [   8.    7.  953.   12.    7.    2.   11.   10.   19.    3.]\n",
      " [   0.    0.   17.  943.    1.   17.    2.   14.   13.    3.]\n",
      " [   1.    1.    5.    1.  931.    0.   12.    3.    5.   23.]\n",
      " [   8.    1.    3.   32.    8.  793.   14.    4.   22.    7.]\n",
      " [   9.    3.    4.    1.   12.   11.  915.    0.    3.    0.]\n",
      " [   3.    7.   24.    5.    6.    0.    0.  964.    3.   16.]\n",
      " [   7.    5.    5.   20.   10.   22.   10.   13.  879.    3.]\n",
      " [   9.    6.    1.   11.   38.    8.    1.   11.    6.  918.]]\n"
     ]
    }
   ],
   "source": [
    "yh = model.predict(x_test)\n",
    "def confusion_matrix(y, yh):\n",
    "    n_classes = y.shape[1]\n",
    "    c_matrix = np.zeros((n_classes, n_classes))\n",
    "    for c1 in range(n_classes):\n",
    "        for c2 in range(n_classes):\n",
    "        #(y==c1)*(yh==c2) is 1 when both conditions are true or 0\n",
    "            c_matrix[c1, c2] = np.sum((np.argmax(y,axis=1)==c1)*(np.argmax(yh,axis=1)==c2))\n",
    "    return c_matrix\n",
    "\n",
    "cmat = confusion_matrix(y_test, yh)\n",
    "np.set_printoptions(suppress=True)\n",
    "print(cmat)"
   ]
  },
  {
   "cell_type": "markdown",
   "metadata": {},
   "source": [
    "### 3.3 Train and test cost as function of training epochs"
   ]
  },
  {
   "cell_type": "code",
   "execution_count": 29,
   "metadata": {},
   "outputs": [
    {
     "name": "stdout",
     "output_type": "stream",
     "text": [
      "Epoch: 1, Train error: 2.3020, Test error: 2.3021\n",
      "Epoch: 2, Train error: 2.2569, Test error: 2.2577\n",
      "Epoch: 3, Train error: 1.9790, Test error: 1.9878\n",
      "Epoch: 4, Train error: 1.3628, Test error: 1.2799\n",
      "Epoch: 5, Train error: 0.8210, Test error: 0.7918\n",
      "Epoch: 6, Train error: 0.6092, Test error: 0.6055\n",
      "Epoch: 7, Train error: 0.4820, Test error: 0.5104\n",
      "Epoch: 8, Train error: 0.4677, Test error: 0.4533\n",
      "Epoch: 9, Train error: 0.3923, Test error: 0.4184\n",
      "Epoch: 10, Train error: 0.2578, Test error: 0.3923\n",
      "Epoch: 11, Train error: 0.3072, Test error: 0.3748\n",
      "Epoch: 12, Train error: 0.3654, Test error: 0.3598\n",
      "Epoch: 13, Train error: 0.3130, Test error: 0.3488\n",
      "Epoch: 14, Train error: 0.3784, Test error: 0.3376\n",
      "Epoch: 15, Train error: 0.2986, Test error: 0.3295\n",
      "Epoch: 16, Train error: 0.3668, Test error: 0.3205\n",
      "Epoch: 17, Train error: 0.4108, Test error: 0.3127\n",
      "Epoch: 18, Train error: 0.3395, Test error: 0.3066\n",
      "Epoch: 19, Train error: 0.2406, Test error: 0.3000\n",
      "Epoch: 20, Train error: 0.3678, Test error: 0.2955\n",
      "Epoch: 21, Train error: 0.2354, Test error: 0.2886\n",
      "Epoch: 22, Train error: 0.5712, Test error: 0.2839\n",
      "Epoch: 23, Train error: 0.3965, Test error: 0.2789\n",
      "Epoch: 24, Train error: 0.3219, Test error: 0.2732\n",
      "Epoch: 25, Train error: 0.2780, Test error: 0.2692\n",
      "Epoch: 26, Train error: 0.4630, Test error: 0.2641\n",
      "Epoch: 27, Train error: 0.3345, Test error: 0.2600\n",
      "Epoch: 28, Train error: 0.2580, Test error: 0.2565\n",
      "Epoch: 29, Train error: 0.2440, Test error: 0.2530\n",
      "Epoch: 30, Train error: 0.2498, Test error: 0.2495\n",
      "Epoch: 31, Train error: 0.2570, Test error: 0.2455\n",
      "Epoch: 32, Train error: 0.1340, Test error: 0.2407\n",
      "Epoch: 33, Train error: 0.1140, Test error: 0.2363\n",
      "Epoch: 34, Train error: 0.2869, Test error: 0.2331\n",
      "Epoch: 35, Train error: 0.2376, Test error: 0.2295\n",
      "Epoch: 36, Train error: 0.1989, Test error: 0.2256\n",
      "Epoch: 37, Train error: 0.2738, Test error: 0.2226\n",
      "Epoch: 38, Train error: 0.1787, Test error: 0.2197\n",
      "Epoch: 39, Train error: 0.2738, Test error: 0.2154\n",
      "Epoch: 40, Train error: 0.1315, Test error: 0.2118\n",
      "Epoch: 41, Train error: 0.1691, Test error: 0.2094\n",
      "Epoch: 42, Train error: 0.2450, Test error: 0.2062\n",
      "Epoch: 43, Train error: 0.2790, Test error: 0.2030\n",
      "Epoch: 44, Train error: 0.1620, Test error: 0.2001\n",
      "Epoch: 45, Train error: 0.0963, Test error: 0.1966\n",
      "Epoch: 46, Train error: 0.1697, Test error: 0.1948\n",
      "Epoch: 47, Train error: 0.1185, Test error: 0.1920\n",
      "Epoch: 48, Train error: 0.1149, Test error: 0.1890\n",
      "Epoch: 49, Train error: 0.1464, Test error: 0.1864\n",
      "Epoch: 50, Train error: 0.1397, Test error: 0.1834\n"
     ]
    },
    {
     "data": {
      "text/plain": [
       "<__main__.MLP2layer_relu at 0x7f18c84cbc10>"
      ]
     },
     "execution_count": 29,
     "metadata": {},
     "output_type": "execute_result"
    }
   ],
   "source": [
    "model = MLP2layer_relu(cost=True)\n",
    "optimizer = GradientDescent(learning_rate=2.5, epochs=50, iters=600, cost=True)\n",
    "\n",
    "model.fit(x_train, y_train, x_test, y_test, optimizer)"
   ]
  },
  {
   "cell_type": "code",
   "execution_count": 33,
   "metadata": {},
   "outputs": [
    {
     "data": {
      "image/png": "[encoded data removed]",
      "text/plain": [
       "<Figure size 432x288 with 1 Axes>"
      ]
     },
     "metadata": {
      "needs_background": "light"
     },
     "output_type": "display_data"
    }
   ],
   "source": [
    "plt.plot(np.arange(len(model.train_loss)), model.train_loss, '-', label='train')\n",
    "plt.plot(np.arange(len(model.test_loss)), model.test_loss, '-', label='test')\n",
    "plt.legend()\n",
    "plt.xlabel('epoch')\n",
    "plt.ylabel('loss')\n",
    "plt.ylim(top = 0.5)\n",
    "plt.savefig('epochs_2layers.png')\n",
    "plt.show()"
   ]
  }
 ],
 "metadata": {
  "colab": {
   "collapsed_sections": [],
   "name": "COMP551_MNP3_2lay.ipynb",
   "provenance": [],
   "toc_visible": true
  },
  "kernelspec": {
   "display_name": "Python 3",
   "language": "python",
   "name": "python3"
  },
  "language_info": {
   "codemirror_mode": {
    "name": "ipython",
    "version": 3
   },
   "file_extension": ".py",
   "mimetype": "text/x-python",
   "name": "python",
   "nbconvert_exporter": "python",
   "pygments_lexer": "ipython3",
   "version": "3.7.10"
  }
 },
 "nbformat": 4,
 "nbformat_minor": 1
}
