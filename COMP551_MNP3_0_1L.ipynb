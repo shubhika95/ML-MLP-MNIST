{
 "cells": [
  {
   "cell_type": "markdown",
   "metadata": {
    "id": "j6331ZSsQGY3"
   },
   "source": [
    "# COMP 551 - Mini-project 3\n",
    "Group 63"
   ]
  },
  {
   "cell_type": "code",
   "execution_count": 1,
   "metadata": {
    "id": "ifel1K0gBWt_"
   },
   "outputs": [],
   "source": [
    "import keras\n",
    "import numpy as np\n",
    "%matplotlib inline                                 \n",
    "import matplotlib.pyplot as plt\n",
    "from IPython.core.debugger import set_trace  \n",
    "import scipy.sparse as sparse\n",
    "import pandas as pd\n",
    "import seaborn as sns\n",
    "import os\n",
    "\n",
    "np.random.seed(1234)"
   ]
  },
  {
   "cell_type": "markdown",
   "metadata": {
    "id": "b08Mmbs8lr81"
   },
   "source": [
    "## Task 1. Data pre-processing\n",
    "\n",
    "- Load the raw data from Keras.\n",
    "- Vectorize 28*28 pictures to 1D vector.\n",
    "- Normalize the intensity of the pixel."
   ]
  },
  {
   "cell_type": "markdown",
   "metadata": {
    "id": "xZyGXlaKojgz"
   },
   "source": [
    "Load the MNIST dataset distributed with Keras. "
   ]
  },
  {
   "cell_type": "code",
   "execution_count": 2,
   "metadata": {
    "colab": {
     "base_uri": "https://localhost:8080/"
    },
    "id": "N01fKjwJDKAz",
    "outputId": "648c84f1-897b-44f6-f8e8-9ef26b2b2670"
   },
   "outputs": [
    {
     "name": "stdout",
     "output_type": "stream",
     "text": [
      "(60000, 28, 28) (10000, 28, 28) (60000,) (10000,)\n"
     ]
    }
   ],
   "source": [
    "(x_train, y_train), (x_test, y_test) = keras.datasets.mnist.load_data()\n",
    "print(x_train.shape, x_test.shape, y_train.shape, y_test.shape)"
   ]
  },
  {
   "cell_type": "markdown",
   "metadata": {
    "id": "5rX8l1wVDOiN"
   },
   "source": [
    "Vectorize the 28*28 pictures to a 784 vector."
   ]
  },
  {
   "cell_type": "code",
   "execution_count": 3,
   "metadata": {
    "colab": {
     "base_uri": "https://localhost:8080/"
    },
    "id": "Y4gvmJN6DPxI",
    "outputId": "f983a3e7-c03e-4347-b2a7-76f3d15325fb"
   },
   "outputs": [
    {
     "name": "stdout",
     "output_type": "stream",
     "text": [
      "(60000, 784) (10000, 784)\n"
     ]
    }
   ],
   "source": [
    "x_train = np.reshape(x_train, (-1, 784)).astype('float32')\n",
    "x_test = np.reshape(x_test, (-1, 784)).astype('float32')\n",
    "print(x_train.shape, x_test.shape)"
   ]
  },
  {
   "cell_type": "markdown",
   "metadata": {
    "id": "LQqnKrdkEcw6"
   },
   "source": [
    "The intensity ranges from 0 to 255. We divide all intensities by the maximum (255) to obtain a [0-1] range."
   ]
  },
  {
   "cell_type": "code",
   "execution_count": 4,
   "metadata": {
    "colab": {
     "base_uri": "https://localhost:8080/"
    },
    "id": "P-s4iFV3Ez3H",
    "outputId": "aac0e209-e701-40a2-84fe-c55496210eac"
   },
   "outputs": [
    {
     "name": "stdout",
     "output_type": "stream",
     "text": [
      "Intensity before normalization: 0.0 255.0\n",
      "Intensity after normalization: 0.0 1.0\n"
     ]
    }
   ],
   "source": [
    "print('Intensity before normalization:', np.amin(x_train), np.amax(x_train))\n",
    "x_train, x_test = x_train/255.0, x_test/255.0\n",
    "print('Intensity after normalization:', np.amin(x_train), np.amax(x_train))"
   ]
  },
  {
   "cell_type": "markdown",
   "metadata": {
    "id": "MUnquDPg1D-k"
   },
   "source": [
    "We transform the (N,) vector of labels using one-hot encoding into a (N,C) matrix."
   ]
  },
  {
   "cell_type": "code",
   "execution_count": 5,
   "metadata": {
    "id": "9fXA7QipDn4Z"
   },
   "outputs": [],
   "source": [
    "y_train = keras.utils.to_categorical(y_train)\n",
    "y_test = keras.utils.to_categorical(y_test)"
   ]
  },
  {
   "cell_type": "code",
   "execution_count": 6,
   "metadata": {
    "colab": {
     "base_uri": "https://localhost:8080/"
    },
    "id": "9j0ZFP-81zIY",
    "outputId": "9c0d76ac-fb03-4e5d-848b-1efacbe3b700"
   },
   "outputs": [
    {
     "name": "stdout",
     "output_type": "stream",
     "text": [
      "(60000, 10) (10000, 10)\n",
      "[[0. 0. 0. 0. 0. 1. 0. 0. 0. 0.]\n",
      " [1. 0. 0. 0. 0. 0. 0. 0. 0. 0.]\n",
      " [0. 0. 0. 0. 1. 0. 0. 0. 0. 0.]]\n"
     ]
    }
   ],
   "source": [
    "print(y_train.shape, y_test.shape)\n",
    "print(y_train[0:3,])"
   ]
  },
  {
   "cell_type": "markdown",
   "metadata": {
    "id": "UpKU5kZOJkEe"
   },
   "source": [
    "## Task 2. Multilayer perceptron implementation"
   ]
  },
  {
   "cell_type": "markdown",
   "metadata": {
    "id": "M6FNYQoRs0ue"
   },
   "source": [
    "### 2.1 Build the network\n",
    "Our task is a multiclass classification.The cost function will be the multi-class cross-entropy loss. We will use the following architecture:\n",
    "- output layer = softmax activation\n",
    "- hidden layers (0 or 1): 128 units, ReLu activation \n"
   ]
  },
  {
   "cell_type": "markdown",
   "metadata": {
    "id": "NUW6HFnH43cv"
   },
   "source": [
    "First, we implement the activation functions."
   ]
  },
  {
   "cell_type": "code",
   "execution_count": 7,
   "metadata": {
    "id": "L1skqPZ_s0uq"
   },
   "outputs": [],
   "source": [
    "# softmax\n",
    "eps=1e-8\n",
    "def softmax(z):\n",
    "    logits = z - np.max(z) # for numerical stability\n",
    "    sum_logits = np.sum(np.exp(logits), axis=1) +eps\n",
    "    softmax = np.exp(logits)/sum_logits[:,None] \n",
    "    return softmax\n",
    "\n",
    "# relu\n",
    "relu = lambda z: np.maximum(0,z)\n",
    "\n",
    "# derivatives of relu (formula from backprop slides)\n",
    "def relu_dv(q):\n",
    "  q[q<=0] = 0\n",
    "  q[q>0] = 1\n",
    "  return q"
   ]
  },
  {
   "cell_type": "markdown",
   "metadata": {
    "id": "qxFKbS58_69S"
   },
   "source": [
    "Next, we build the MLP class."
   ]
  },
  {
   "cell_type": "code",
   "execution_count": 8,
   "metadata": {
    "id": "TMmFVodKwNv4"
   },
   "outputs": [],
   "source": [
    " # for no hidden layer \n",
    " class MLP_none:\n",
    "    \n",
    "    def __init__(self, cost=False):\n",
    "        self.cost = cost\n",
    "            \n",
    "    def fit(self, x_train, y_train, x_test, y_test, optimizer):\n",
    "        N = x_train.shape[0]\n",
    "        C = y_train.shape[1] # number of classes\n",
    "        D = x_train.shape[1]\n",
    "        def gradient(x, y, w): \n",
    "            n = x.shape[0]\n",
    "            # forward pass\n",
    "            # add bias to the input layer \n",
    "            x = np.column_stack([x,np.ones(n)*0.1])\n",
    "            yh = softmax(np.dot(x, w))#N x C\n",
    "            # backward pass => gradient formula from class dw = (yh-y)*x\n",
    "            dy = yh - y #N x C\n",
    "            dw = np.dot(x.T, dy)/N #D x C\n",
    "            return dw\n",
    "        \n",
    "        # initialize the parameters with values in the standard normal distribution and scaled to be low\n",
    "        w = np.random.randn(D+1,C) * .01 #D x C\n",
    "        if self.cost == True:\n",
    "            self.params, self.train_loss, self.test_loss = optimizer.run(gradient, x_train, y_train, x_test, y_test, w)\n",
    "        else:\n",
    "            self.params = optimizer.run(gradient, x_train, y_train, x_test, y_test, w)\n",
    "        return self\n",
    "    \n",
    "    def predict(self, x):\n",
    "        w = self.params\n",
    "        Nt = x.shape[0]\n",
    "        x = np.column_stack([x,np.ones(Nt)*0.1])\n",
    "        yh = softmax(np.dot(x, w))#N x C\n",
    "        return yh"
   ]
  },
  {
   "cell_type": "code",
   "execution_count": 9,
   "metadata": {
    "id": "ORxlNOoF48rR"
   },
   "outputs": [],
   "source": [
    "# for 1 hidden layer with relu activation\n",
    "class MLP_relu_one:\n",
    "    \n",
    "    def __init__(self, M = 128, cost=False):\n",
    "        self.M = M\n",
    "        self.cost = cost\n",
    "            \n",
    "    def fit(self, x_train, y_train, x_test, y_test, optimizer):\n",
    "        N = x_train.shape[0]\n",
    "        C = y_train.shape[1] # number of classes\n",
    "        D = x_train.shape[1]\n",
    "        def gradient(x, y, params):\n",
    "            v, w = params\n",
    "            # forward pass\n",
    "            n = x.shape[0]\n",
    "            # add bias to the input layer\n",
    "            x = np.column_stack([x,np.ones(n)*0.1])\n",
    "            # add bias to the hidden layer\n",
    "            b = np.ones((n,1))*0.1\n",
    "\n",
    "            q = np.dot(x, v) \n",
    "            z = relu(np.hstack((q,b))) \n",
    "            yh = softmax(np.dot(z, w))\n",
    "            dy = yh - y \n",
    "            dw = np.dot(z.T,dy)/N \n",
    "            dz = np.dot(dy,w.T)\n",
    "            dz = np.delete(dz, -1, axis=1)\n",
    "            dq = relu_dv(q)\n",
    "            dv = np.dot(x.T, dz * dq)/N #M x C\n",
    "            dparams = [dv, dw]\n",
    "            return dparams\n",
    "        \n",
    "        # initialize the parameters with values in the standard normal distribution and scaled to be low\n",
    "        w = np.random.randn(self.M+1,C) * .01 #M x M\n",
    "        v = np.random.randn(D+1,self.M) * .01 #D x M\n",
    "        \n",
    "        params0 = [v,w]\n",
    "\n",
    "        # run the mini-batch gradient descent to update the parameters\n",
    "        if self.cost == True:\n",
    "            self.params, self.train_loss, self.test_loss = optimizer.run(gradient, x_train, y_train, x_test, y_test, params0)\n",
    "        else:\n",
    "            self.params = optimizer.run(gradient, x_train, y_train, x_test, y_test, params0)\n",
    "        return self\n",
    "    \n",
    "    def predict(self, x):\n",
    "        v, w = self.params\n",
    "        # add bias to the input layer\n",
    "        Nt = x.shape[0]\n",
    "        x = np.column_stack([x,np.ones(Nt)*0.1])\n",
    "        # add bias to the hidden layer\n",
    "        b1 = np.ones((Nt,1))*0.1\n",
    "     \n",
    "        # forward pass only using updated parameters\n",
    "\n",
    "        q = np.dot(x,v)\n",
    "        z = relu(np.hstack((q,b1)))\n",
    "        yh = softmax(np.dot(z, w))#N x C\n",
    "        return yh"
   ]
  },
  {
   "cell_type": "markdown",
   "metadata": {
    "id": "65sh_GyGNkqO"
   },
   "source": [
    "### 2.2 Implement the cost and accuracy function\n",
    "\n"
   ]
  },
  {
   "cell_type": "code",
   "execution_count": 10,
   "metadata": {
    "id": "IgiPvgSbNuZG"
   },
   "outputs": [],
   "source": [
    "# Softmax cross entropy \n",
    "def logsumexp(Z):                                                # dimension N x C\n",
    "    Zmax = np.max(Z,axis=1)[:,None]                              # max over C\n",
    "    log_sum_exp = Zmax + np.log(np.sum(np.exp(Z - Zmax), axis=1))\n",
    "    return log_sum_exp\n",
    "\n",
    "# cost for no hidden layer\n",
    "def cost_none(x,y,v):\n",
    "  Nt = x.shape[0]\n",
    "  x = np.column_stack([x,np.ones(Nt)*0.1])\n",
    "  u = np.dot(x, v) \n",
    "  nll = - np.mean(np.sum(u*y, 1) - logsumexp(u)) \n",
    "  return nll\n",
    "\n",
    "# cost for relu activation - one layer\n",
    "def cost_relu_one(x, y, params):\n",
    "  Nt = x.shape[0]\n",
    "  v, w = params\n",
    "  b = np.ones((Nt,1))*0.1\n",
    "  x = np.column_stack([x,np.ones(Nt)*0.1])\n",
    "  q = np.dot(x, v) \n",
    "  z = relu(np.hstack((q,b)))\n",
    "  u = np.dot(z, w) #N x C\n",
    "  nll = - np.mean(np.sum(u*y, 1) - logsumexp(u)) \n",
    "  return nll\n",
    "\n",
    "# Accuracy\n",
    "def evaluate_acc(y, yh):\n",
    "  y_pred = np.argmax(yh,axis=1)\n",
    "  accuracy = np.count_nonzero(y_pred == np.argmax(y,axis=1))/y.shape[0]\n",
    "  return accuracy"
   ]
  },
  {
   "cell_type": "markdown",
   "metadata": {
    "id": "EQOU9hy6pUBw"
   },
   "source": [
    "### 2.3. Implement the cross-validation function"
   ]
  },
  {
   "cell_type": "code",
   "execution_count": 11,
   "metadata": {
    "id": "7hPij4vrpXJA"
   },
   "outputs": [],
   "source": [
    "def cross_validate(n, n_folds=6):\n",
    "    #get the number of data samples in each split\n",
    "    n_val = n // n_folds\n",
    "    inds = np.random.permutation(n)\n",
    "    inds = []\n",
    "    for f in range(n_folds):\n",
    "        tr_inds = []\n",
    "        #get the validation indexes\n",
    "        val_inds = list(range(f * n_val, (f+1)*n_val))\n",
    "        #get the train indexes\n",
    "        if f > 0:\n",
    "            tr_inds = list(range(f*n_val))\n",
    "        if f < n_folds - 1:\n",
    "            tr_inds = tr_inds + list(range((f+1)*n_val, n))\n",
    "        #The yield statement suspends function’s execution and sends a value back to the caller\n",
    "        #but retains enough state information to enable function to resume where it is left off\n",
    "        yield tr_inds, val_inds"
   ]
  },
  {
   "cell_type": "markdown",
   "metadata": {
    "id": "UzCYnVR2OZ7c"
   },
   "source": [
    "### 2.4 Implement the optimizer\n",
    "\n",
    "We will use a mini-batch gradient-descent algorithm."
   ]
  },
  {
   "cell_type": "code",
   "execution_count": 12,
   "metadata": {
    "id": "1u1OikUgk3hk"
   },
   "outputs": [],
   "source": [
    "def create_mini_batch(x, y, batch_size): \n",
    "    D = x.shape[1]\n",
    "    data = np.hstack((x, y))\n",
    "    np.random.shuffle(data)\n",
    "    mini = data[:batch_size,:]                                                    \n",
    "    x_mini = mini[:,:D]\n",
    "    y_mini = mini[:,D:]\n",
    "    return x_mini, y_mini"
   ]
  },
  {
   "cell_type": "code",
   "execution_count": 13,
   "metadata": {
    "id": "AhCrG89Es0us"
   },
   "outputs": [],
   "source": [
    "class GradientDescent:\n",
    "    \n",
    "    def __init__(self, learning_rate=.001, epsilon=1e-8, batch_size=100, iters=600, epochs=50, cost=False):\n",
    "        self.learning_rate = learning_rate\n",
    "        self.iters = iters\n",
    "        self.epsilon = epsilon\n",
    "        self.batch_size = batch_size\n",
    "        self.epochs = epochs\n",
    "        self.cost = cost\n",
    "        \n",
    "    def run(self, gradient_fn, x_train, y_train, x_test, y_test, params):\n",
    "      if self.cost == True:\n",
    "        epoch = 1\n",
    "        train_losses = []\n",
    "        test_losses = []\n",
    "        for epoch in range(self.epochs):\n",
    "          train_epoch_loss = []\n",
    "          test_epoch_loss = []\n",
    "          for t in range(self.iters):\n",
    "            x_mini, y_mini = create_mini_batch(x_train, y_train, self.batch_size)\n",
    "            train_loss = cost_relu_one(x_mini, y_mini, params)\n",
    "            test_loss = cost_relu_one(x_test, y_test, params)\n",
    "            grad = gradient_fn(x_mini, y_mini, params)\n",
    "            for p in range(len(params)):\n",
    "                params[p] -= self.learning_rate * grad[p]\n",
    "            if t % self.iters == 0:\n",
    "              print(f\"Epoch: {epoch+1}, Train error: {train_loss:.4f}, Test error: {test_loss:.4f}\")\n",
    "              epoch += 1\n",
    "            train_epoch_loss.append(train_loss)\n",
    "            test_epoch_loss.append(test_loss)\n",
    "          train_losses.append(np.mean(train_epoch_loss))\n",
    "          test_losses.append(np.mean(test_epoch_loss))\n",
    "        return params, train_losses, test_losses\n",
    "      else:     \n",
    "        norms = np.array([np.inf])\n",
    "        t = 1\n",
    "        while np.any(norms > self.epsilon) and t<self.iters:\n",
    "            # create mini-batch\n",
    "            x_mini, y_mini = create_mini_batch(x_train, y_train, self.batch_size)\n",
    "            # calculate gradient for the mini-batch\n",
    "            grad = gradient_fn(x_mini, y_mini, params)\n",
    "            # update v and dw\n",
    "            for p in range(len(params)):\n",
    "                params[p] -= self.learning_rate * grad[p]\n",
    "            t += 1\n",
    "            norms = np.array([np.linalg.norm(g) for g in grad])\n",
    "        return params\n"
   ]
  },
  {
   "cell_type": "code",
   "execution_count": 14,
   "metadata": {
    "id": "Vu3cTTW8yEar"
   },
   "outputs": [],
   "source": [
    "class GradientDescent_none:\n",
    "    \n",
    "    def __init__(self, learning_rate=.001, epsilon=1e-8, batch_size=100, iters=600, epochs=50, cost=False):\n",
    "        self.learning_rate = learning_rate\n",
    "        self.iters = iters\n",
    "        self.epsilon = epsilon\n",
    "        self.batch_size = batch_size\n",
    "        self.epochs = epochs\n",
    "        self.cost = cost\n",
    "        \n",
    "    def run(self, gradient_fn, x_train, y_train, x_test, y_test, params):\n",
    "        if self.cost == True:\n",
    "            epoch = 1\n",
    "            train_losses = []\n",
    "            test_losses = []\n",
    "            for epoch in range(self.epochs):\n",
    "                    train_epoch_loss = []\n",
    "                    test_epoch_loss = []\n",
    "                    for t in range(self.iters):\n",
    "                        x_mini, y_mini = create_mini_batch(x_train, y_train, self.batch_size)\n",
    "                        train_loss = cost_none(x_mini, y_mini, params)\n",
    "                        test_loss = cost_none(x_test, y_test, params)\n",
    "                        grad = gradient_fn(x_mini, y_mini, params)\n",
    "                        params -= self.learning_rate * grad\n",
    "                        if t % self.iters == 0:\n",
    "                          print(f\"Epoch: {epoch+1}, Train error: {train_loss:.4f}, Test error: {test_loss:.4f}\")\n",
    "                          epoch += 1\n",
    "                        train_epoch_loss.append(train_loss)\n",
    "                        test_epoch_loss.append(test_loss)\n",
    "                    train_losses.append(np.mean(train_epoch_loss))\n",
    "                    test_losses.append(np.mean(test_epoch_loss))\n",
    "            return params, train_losses, test_losses\n",
    "        else:    \n",
    "            norms = np.array([np.inf])\n",
    "            t = 1\n",
    "            while np.any(norms > self.epsilon) and t<self.iters:\n",
    "            # create mini-batch\n",
    "                x_mini, y_mini = create_mini_batch(x_train, y_train, self.batch_size)\n",
    "            # calculate gradient for the mini-batch\n",
    "                grad = gradient_fn(x_mini, y_mini, params)\n",
    "            # update paramaters\n",
    "                params -= self.learning_rate * grad\n",
    "                t += 1\n",
    "                norms = np.array([np.linalg.norm(g) for g in grad])\n",
    "            return params\n"
   ]
  },
  {
   "cell_type": "markdown",
   "metadata": {
    "id": "mlT4tqWfOqH1"
   },
   "source": [
    "## Task 3. Run the experiments"
   ]
  },
  {
   "cell_type": "markdown",
   "metadata": {
    "id": "06Fgoi2nO_tv"
   },
   "source": [
    "### 3.1 Model without hidden layers."
   ]
  },
  {
   "cell_type": "markdown",
   "metadata": {
    "id": "RHVFkJgHphgm"
   },
   "source": [
    "Learning rate tuning with cross-validation."
   ]
  },
  {
   "cell_type": "code",
   "execution_count": 15,
   "metadata": {
    "colab": {
     "base_uri": "https://localhost:8080/",
     "height": 375
    },
    "id": "zSdcpOvuplGt",
    "outputId": "e4a8f667-9394-4ebd-e9f0-9d29dd196f3b"
   },
   "outputs": [
    {
     "name": "stdout",
     "output_type": "stream",
     "text": [
      "For learning rate = 0.1 and fold 0 the accuracy is: 0.8362\n",
      "For learning rate = 0.1 and fold 1 the accuracy is: 0.8359\n",
      "For learning rate = 0.1 and fold 2 the accuracy is: 0.8466\n",
      "For learning rate = 1 and fold 0 the accuracy is: 0.89225\n",
      "For learning rate = 1 and fold 1 the accuracy is: 0.8862\n",
      "For learning rate = 1 and fold 2 the accuracy is: 0.89445\n",
      "For learning rate = 10 and fold 0 the accuracy is: 0.91445\n",
      "For learning rate = 10 and fold 1 the accuracy is: 0.91165\n",
      "For learning rate = 10 and fold 2 the accuracy is: 0.9143\n"
     ]
    }
   ],
   "source": [
    "learning_list = [0.1,1,10]\n",
    "\n",
    "num_folds = 3\n",
    "acc_valid = np.zeros((len(learning_list), num_folds))\n",
    "for i, learning in enumerate(learning_list):\n",
    "    #Find the validation accuracy for num_folds splits for a given learning rate\n",
    "    for f, (tr, val) in enumerate(cross_validate(x_train.shape[0], num_folds)):\n",
    "        model = MLP_none()\n",
    "        optimizer = GradientDescent_none(learning_rate=learning, epochs=100, iters=20000, cost=False)\n",
    "        model.fit(x_train[tr], y_train[tr], x_test, y_test, optimizer)\n",
    "        acc_valid[i, f] = evaluate_acc(y_train[val], model.predict(x_train[val]))\n",
    "        print('For learning rate =',learning,'and fold',f,'the accuracy is:',acc_valid[i, f])"
   ]
  },
  {
   "cell_type": "code",
   "execution_count": 17,
   "metadata": {},
   "outputs": [
    {
     "data": {
      "image/png": "[encoded data removed]",
      "text/plain": [
       "<Figure size 432x288 with 1 Axes>"
      ]
     },
     "metadata": {
      "needs_background": "light"
     },
     "output_type": "display_data"
    }
   ],
   "source": [
    "plt.errorbar(learning_list, np.mean(acc_valid, axis=1), np.std(acc_valid, axis=1))\n",
    "plt.xlabel('Learning rate')\n",
    "plt.ylabel('Accuracy')\n",
    "plt.show()"
   ]
  },
  {
   "cell_type": "code",
   "execution_count": 33,
   "metadata": {},
   "outputs": [
    {
     "name": "stdout",
     "output_type": "stream",
     "text": [
      "The accuracy is 91.9.\n"
     ]
    }
   ],
   "source": [
    "model = MLP_none()\n",
    "optimizer = GradientDescent_none(learning_rate=10, epochs=100, iters=20000, cost=False)\n",
    "model.fit(x_train, y_train, x_test, y_test, optimizer)\n",
    "acc = evaluate_acc(y_test, model.predict(x_test))\n",
    "print(f'The accuracy is {acc*100:.1f}.')"
   ]
  },
  {
   "cell_type": "code",
   "execution_count": 15,
   "metadata": {
    "colab": {
     "base_uri": "https://localhost:8080/",
     "height": 392
    },
    "id": "jYYHkqdeyWlo",
    "outputId": "5ef9122b-f4c6-40a3-baa5-7c48104c9dea"
   },
   "outputs": [
    {
     "name": "stdout",
     "output_type": "stream",
     "text": [
      "Epoch: 1, Train error: 2.3007, Test error: 2.3015\n",
      "Epoch: 2, Train error: 0.6434, Test error: 0.5889\n",
      "Epoch: 3, Train error: 0.5411, Test error: 0.4708\n",
      "Epoch: 4, Train error: 0.4881, Test error: 0.4226\n",
      "Epoch: 5, Train error: 0.4168, Test error: 0.3955\n",
      "Epoch: 6, Train error: 0.3420, Test error: 0.3785\n",
      "Epoch: 7, Train error: 0.4041, Test error: 0.3648\n",
      "Epoch: 8, Train error: 0.2428, Test error: 0.3546\n",
      "Epoch: 9, Train error: 0.3455, Test error: 0.3476\n",
      "Epoch: 10, Train error: 0.3567, Test error: 0.3410\n",
      "Epoch: 11, Train error: 0.2109, Test error: 0.3355\n",
      "Epoch: 12, Train error: 0.3621, Test error: 0.3312\n",
      "Epoch: 13, Train error: 0.2532, Test error: 0.3273\n",
      "Epoch: 14, Train error: 0.2841, Test error: 0.3242\n",
      "Epoch: 15, Train error: 0.3498, Test error: 0.3214\n",
      "Epoch: 16, Train error: 0.3287, Test error: 0.3185\n",
      "Epoch: 17, Train error: 0.3950, Test error: 0.3159\n",
      "Epoch: 18, Train error: 0.3810, Test error: 0.3139\n",
      "Epoch: 19, Train error: 0.3795, Test error: 0.3120\n",
      "Epoch: 20, Train error: 0.3625, Test error: 0.3098\n",
      "Epoch: 21, Train error: 0.3563, Test error: 0.3088\n",
      "Epoch: 22, Train error: 0.2604, Test error: 0.3070\n",
      "Epoch: 23, Train error: 0.2542, Test error: 0.3055\n",
      "Epoch: 24, Train error: 0.1708, Test error: 0.3040\n",
      "Epoch: 25, Train error: 0.4032, Test error: 0.3037\n",
      "Epoch: 26, Train error: 0.2823, Test error: 0.3021\n",
      "Epoch: 27, Train error: 0.2739, Test error: 0.3010\n",
      "Epoch: 28, Train error: 0.3284, Test error: 0.2996\n",
      "Epoch: 29, Train error: 0.2042, Test error: 0.2986\n",
      "Epoch: 30, Train error: 0.4330, Test error: 0.2975\n",
      "Epoch: 31, Train error: 0.4812, Test error: 0.2976\n",
      "Epoch: 32, Train error: 0.4308, Test error: 0.2966\n",
      "Epoch: 33, Train error: 0.2084, Test error: 0.2961\n",
      "Epoch: 34, Train error: 0.1514, Test error: 0.2949\n",
      "Epoch: 35, Train error: 0.3409, Test error: 0.2956\n",
      "Epoch: 36, Train error: 0.2109, Test error: 0.2938\n",
      "Epoch: 37, Train error: 0.3157, Test error: 0.2936\n",
      "Epoch: 38, Train error: 0.3474, Test error: 0.2934\n",
      "Epoch: 39, Train error: 0.3925, Test error: 0.2926\n",
      "Epoch: 40, Train error: 0.3386, Test error: 0.2917\n",
      "Epoch: 41, Train error: 0.1704, Test error: 0.2916\n",
      "Epoch: 42, Train error: 0.2051, Test error: 0.2910\n",
      "Epoch: 43, Train error: 0.3580, Test error: 0.2905\n",
      "Epoch: 44, Train error: 0.3188, Test error: 0.2901\n",
      "Epoch: 45, Train error: 0.1858, Test error: 0.2894\n",
      "Epoch: 46, Train error: 0.3178, Test error: 0.2891\n",
      "Epoch: 47, Train error: 0.3366, Test error: 0.2882\n",
      "Epoch: 48, Train error: 0.2055, Test error: 0.2886\n",
      "Epoch: 49, Train error: 0.2466, Test error: 0.2879\n",
      "Epoch: 50, Train error: 0.2402, Test error: 0.2873\n"
     ]
    },
    {
     "data": {
      "text/plain": [
       "<__main__.MLP_none at 0x7f8f693d6890>"
      ]
     },
     "execution_count": 15,
     "metadata": {},
     "output_type": "execute_result"
    }
   ],
   "source": [
    "model = MLP_none(cost=True)\n",
    "optimizer = GradientDescent_none(learning_rate=10, epochs=50, iters=600, cost=True)\n",
    "\n",
    "model.fit(x_train, y_train, x_test, y_test, optimizer)"
   ]
  },
  {
   "cell_type": "code",
   "execution_count": 16,
   "metadata": {},
   "outputs": [
    {
     "data": {
      "image/png": "[encoded data removed]",
      "text/plain": [
       "<Figure size 432x288 with 1 Axes>"
      ]
     },
     "metadata": {
      "needs_background": "light"
     },
     "output_type": "display_data"
    }
   ],
   "source": [
    "plt.plot(np.arange(len(model.train_loss)), model.train_loss, '-', label='train')\n",
    "plt.plot(np.arange(len(model.test_loss)), model.test_loss, '-', label='unseen')\n",
    "plt.legend()\n",
    "plt.xlabel('epoch')\n",
    "plt.ylabel('loss')\n",
    "plt.ylim(top = 0.7)\n",
    "plt.show()"
   ]
  },
  {
   "cell_type": "markdown",
   "metadata": {
    "id": "nPVuq4g7QGNP"
   },
   "source": [
    "### 3.2 Model with 1 hidden layer and ReLu activation."
   ]
  },
  {
   "cell_type": "markdown",
   "metadata": {
    "id": "FoYEc4dUpy3u"
   },
   "source": [
    "Learning rate tuning with cross-validation."
   ]
  },
  {
   "cell_type": "code",
   "execution_count": null,
   "metadata": {
    "colab": {
     "base_uri": "https://localhost:8080/",
     "height": 409
    },
    "id": "OBwsOAsHpyEA",
    "outputId": "06b9a563-9a5e-454f-de34-c7bf73d61182"
   },
   "outputs": [],
   "source": [
    "learning_list = [0.1,1,10]\n",
    "\n",
    "num_folds = 3\n",
    "acc_valid = np.zeros((len(learning_list), num_folds))\n",
    "for i, learning in enumerate(learning_list):\n",
    "    #Find the validation accuracy for num_folds splits for a given learning rate\n",
    "    for f, (tr, val) in enumerate(cross_validate(x_train.shape[0], num_folds)):\n",
    "        model = MLP_relu_one()\n",
    "        optimizer = GradientDescent(learning_rate=learning,iters=20000)\n",
    "        model.fit(x_train[tr], y_train[tr], x_test, y_test, optimizer)\n",
    "        acc_valid[i, f] = evaluate_acc(y_train[val], model.predict(x_train[val]))\n",
    "        print('For learning rate =',learning,'and fold',f,'the accuracy is:',acc_valid[i, f])"
   ]
  },
  {
   "cell_type": "code",
   "execution_count": 70,
   "metadata": {},
   "outputs": [
    {
     "data": {
      "image/png": "[encoded data removed]",
      "text/plain": [
       "<Figure size 432x288 with 1 Axes>"
      ]
     },
     "metadata": {
      "needs_background": "light"
     },
     "output_type": "display_data"
    }
   ],
   "source": [
    "plt.errorbar(learning_list, np.mean(acc_valid, axis=1), np.std(acc_valid, axis=1))\n",
    "plt.xlabel('Learning rate')\n",
    "plt.ylabel('Accuracy')\n",
    "plt.show()"
   ]
  },
  {
   "cell_type": "code",
   "execution_count": 73,
   "metadata": {},
   "outputs": [
    {
     "name": "stdout",
     "output_type": "stream",
     "text": [
      "For learning rate = 2 and fold 0 the accuracy is: 0.91935\n",
      "For learning rate = 2 and fold 1 the accuracy is: 0.9175\n",
      "For learning rate = 2 and fold 2 the accuracy is: 0.9201\n",
      "For learning rate = 5 and fold 0 the accuracy is: 0.0997\n"
     ]
    },
    {
     "ename": "KeyboardInterrupt",
     "evalue": "",
     "output_type": "error",
     "traceback": [
      "\u001b[0;31m---------------------------------------------------------------------------\u001b[0m",
      "\u001b[0;31mKeyboardInterrupt\u001b[0m                         Traceback (most recent call last)",
      "\u001b[0;32m<ipython-input-73-115bd331fbcd>\u001b[0m in \u001b[0;36m<module>\u001b[0;34m\u001b[0m\n\u001b[1;32m      8\u001b[0m         \u001b[0mmodel\u001b[0m \u001b[0;34m=\u001b[0m \u001b[0mMLP_relu_one\u001b[0m\u001b[0;34m(\u001b[0m\u001b[0;34m)\u001b[0m\u001b[0;34m\u001b[0m\u001b[0;34m\u001b[0m\u001b[0m\n\u001b[1;32m      9\u001b[0m         \u001b[0moptimizer\u001b[0m \u001b[0;34m=\u001b[0m \u001b[0mGradientDescent\u001b[0m\u001b[0;34m(\u001b[0m\u001b[0mlearning_rate\u001b[0m\u001b[0;34m=\u001b[0m\u001b[0mlearning\u001b[0m\u001b[0;34m,\u001b[0m\u001b[0miters\u001b[0m\u001b[0;34m=\u001b[0m\u001b[0;36m20000\u001b[0m\u001b[0;34m)\u001b[0m\u001b[0;34m\u001b[0m\u001b[0;34m\u001b[0m\u001b[0m\n\u001b[0;32m---> 10\u001b[0;31m         \u001b[0mmodel\u001b[0m\u001b[0;34m.\u001b[0m\u001b[0mfit\u001b[0m\u001b[0;34m(\u001b[0m\u001b[0mx_train\u001b[0m\u001b[0;34m[\u001b[0m\u001b[0mtr\u001b[0m\u001b[0;34m]\u001b[0m\u001b[0;34m,\u001b[0m \u001b[0my_train\u001b[0m\u001b[0;34m[\u001b[0m\u001b[0mtr\u001b[0m\u001b[0;34m]\u001b[0m\u001b[0;34m,\u001b[0m \u001b[0mx_test\u001b[0m\u001b[0;34m,\u001b[0m \u001b[0my_test\u001b[0m\u001b[0;34m,\u001b[0m \u001b[0moptimizer\u001b[0m\u001b[0;34m)\u001b[0m\u001b[0;34m\u001b[0m\u001b[0;34m\u001b[0m\u001b[0m\n\u001b[0m\u001b[1;32m     11\u001b[0m         \u001b[0macc_valid\u001b[0m\u001b[0;34m[\u001b[0m\u001b[0mi\u001b[0m\u001b[0;34m,\u001b[0m \u001b[0mf\u001b[0m\u001b[0;34m]\u001b[0m \u001b[0;34m=\u001b[0m \u001b[0mevaluate_acc\u001b[0m\u001b[0;34m(\u001b[0m\u001b[0my_train\u001b[0m\u001b[0;34m[\u001b[0m\u001b[0mval\u001b[0m\u001b[0;34m]\u001b[0m\u001b[0;34m,\u001b[0m \u001b[0mmodel\u001b[0m\u001b[0;34m.\u001b[0m\u001b[0mpredict\u001b[0m\u001b[0;34m(\u001b[0m\u001b[0mx_train\u001b[0m\u001b[0;34m[\u001b[0m\u001b[0mval\u001b[0m\u001b[0;34m]\u001b[0m\u001b[0;34m)\u001b[0m\u001b[0;34m)\u001b[0m\u001b[0;34m\u001b[0m\u001b[0;34m\u001b[0m\u001b[0m\n\u001b[1;32m     12\u001b[0m         \u001b[0mprint\u001b[0m\u001b[0;34m(\u001b[0m\u001b[0;34m'For learning rate ='\u001b[0m\u001b[0;34m,\u001b[0m\u001b[0mlearning\u001b[0m\u001b[0;34m,\u001b[0m\u001b[0;34m'and fold'\u001b[0m\u001b[0;34m,\u001b[0m\u001b[0mf\u001b[0m\u001b[0;34m,\u001b[0m\u001b[0;34m'the accuracy is:'\u001b[0m\u001b[0;34m,\u001b[0m\u001b[0macc_valid\u001b[0m\u001b[0;34m[\u001b[0m\u001b[0mi\u001b[0m\u001b[0;34m,\u001b[0m \u001b[0mf\u001b[0m\u001b[0;34m]\u001b[0m\u001b[0;34m)\u001b[0m\u001b[0;34m\u001b[0m\u001b[0;34m\u001b[0m\u001b[0m\n",
      "\u001b[0;32m<ipython-input-68-67b3fe37f039>\u001b[0m in \u001b[0;36mfit\u001b[0;34m(self, x_train, y_train, x_test, y_test, optimizer)\u001b[0m\n\u001b[1;32m     40\u001b[0m             \u001b[0mself\u001b[0m\u001b[0;34m.\u001b[0m\u001b[0mparams\u001b[0m\u001b[0;34m,\u001b[0m \u001b[0mself\u001b[0m\u001b[0;34m.\u001b[0m\u001b[0mtrain_loss\u001b[0m\u001b[0;34m,\u001b[0m \u001b[0mself\u001b[0m\u001b[0;34m.\u001b[0m\u001b[0mtest_loss\u001b[0m \u001b[0;34m=\u001b[0m \u001b[0moptimizer\u001b[0m\u001b[0;34m.\u001b[0m\u001b[0mrun\u001b[0m\u001b[0;34m(\u001b[0m\u001b[0mgradient\u001b[0m\u001b[0;34m,\u001b[0m \u001b[0mx_train\u001b[0m\u001b[0;34m,\u001b[0m \u001b[0my_train\u001b[0m\u001b[0;34m,\u001b[0m \u001b[0mx_test\u001b[0m\u001b[0;34m,\u001b[0m \u001b[0my_test\u001b[0m\u001b[0;34m,\u001b[0m \u001b[0mparams0\u001b[0m\u001b[0;34m)\u001b[0m\u001b[0;34m\u001b[0m\u001b[0;34m\u001b[0m\u001b[0m\n\u001b[1;32m     41\u001b[0m         \u001b[0;32melse\u001b[0m\u001b[0;34m:\u001b[0m\u001b[0;34m\u001b[0m\u001b[0;34m\u001b[0m\u001b[0m\n\u001b[0;32m---> 42\u001b[0;31m             \u001b[0mself\u001b[0m\u001b[0;34m.\u001b[0m\u001b[0mparams\u001b[0m \u001b[0;34m=\u001b[0m \u001b[0moptimizer\u001b[0m\u001b[0;34m.\u001b[0m\u001b[0mrun\u001b[0m\u001b[0;34m(\u001b[0m\u001b[0mgradient\u001b[0m\u001b[0;34m,\u001b[0m \u001b[0mx_train\u001b[0m\u001b[0;34m,\u001b[0m \u001b[0my_train\u001b[0m\u001b[0;34m,\u001b[0m \u001b[0mx_test\u001b[0m\u001b[0;34m,\u001b[0m \u001b[0my_test\u001b[0m\u001b[0;34m,\u001b[0m \u001b[0mparams0\u001b[0m\u001b[0;34m)\u001b[0m\u001b[0;34m\u001b[0m\u001b[0;34m\u001b[0m\u001b[0m\n\u001b[0m\u001b[1;32m     43\u001b[0m         \u001b[0;32mreturn\u001b[0m \u001b[0mself\u001b[0m\u001b[0;34m\u001b[0m\u001b[0;34m\u001b[0m\u001b[0m\n\u001b[1;32m     44\u001b[0m \u001b[0;34m\u001b[0m\u001b[0m\n",
      "\u001b[0;32m<ipython-input-67-3e44e0dbe127>\u001b[0m in \u001b[0;36mrun\u001b[0;34m(self, gradient_fn, x_train, y_train, x_test, y_test, params)\u001b[0m\n\u001b[1;32m     37\u001b[0m         \u001b[0;32mwhile\u001b[0m \u001b[0mnp\u001b[0m\u001b[0;34m.\u001b[0m\u001b[0many\u001b[0m\u001b[0;34m(\u001b[0m\u001b[0mnorms\u001b[0m \u001b[0;34m>\u001b[0m \u001b[0mself\u001b[0m\u001b[0;34m.\u001b[0m\u001b[0mepsilon\u001b[0m\u001b[0;34m)\u001b[0m \u001b[0;32mand\u001b[0m \u001b[0mt\u001b[0m\u001b[0;34m<\u001b[0m\u001b[0mself\u001b[0m\u001b[0;34m.\u001b[0m\u001b[0miters\u001b[0m\u001b[0;34m:\u001b[0m\u001b[0;34m\u001b[0m\u001b[0;34m\u001b[0m\u001b[0m\n\u001b[1;32m     38\u001b[0m             \u001b[0;31m# create mini-batch\u001b[0m\u001b[0;34m\u001b[0m\u001b[0;34m\u001b[0m\u001b[0;34m\u001b[0m\u001b[0m\n\u001b[0;32m---> 39\u001b[0;31m             \u001b[0mx_mini\u001b[0m\u001b[0;34m,\u001b[0m \u001b[0my_mini\u001b[0m \u001b[0;34m=\u001b[0m \u001b[0mcreate_mini_batch\u001b[0m\u001b[0;34m(\u001b[0m\u001b[0mx_train\u001b[0m\u001b[0;34m,\u001b[0m \u001b[0my_train\u001b[0m\u001b[0;34m,\u001b[0m \u001b[0mself\u001b[0m\u001b[0;34m.\u001b[0m\u001b[0mbatch_size\u001b[0m\u001b[0;34m)\u001b[0m\u001b[0;34m\u001b[0m\u001b[0;34m\u001b[0m\u001b[0m\n\u001b[0m\u001b[1;32m     40\u001b[0m             \u001b[0;31m# calculate gradient for the mini-batch\u001b[0m\u001b[0;34m\u001b[0m\u001b[0;34m\u001b[0m\u001b[0;34m\u001b[0m\u001b[0m\n\u001b[1;32m     41\u001b[0m             \u001b[0mgrad\u001b[0m \u001b[0;34m=\u001b[0m \u001b[0mgradient_fn\u001b[0m\u001b[0;34m(\u001b[0m\u001b[0mx_mini\u001b[0m\u001b[0;34m,\u001b[0m \u001b[0my_mini\u001b[0m\u001b[0;34m,\u001b[0m \u001b[0mparams\u001b[0m\u001b[0;34m)\u001b[0m\u001b[0;34m\u001b[0m\u001b[0;34m\u001b[0m\u001b[0m\n",
      "\u001b[0;32m<ipython-input-13-1b119249170a>\u001b[0m in \u001b[0;36mcreate_mini_batch\u001b[0;34m(x, y, batch_size)\u001b[0m\n\u001b[1;32m      2\u001b[0m     \u001b[0mD\u001b[0m \u001b[0;34m=\u001b[0m \u001b[0mx\u001b[0m\u001b[0;34m.\u001b[0m\u001b[0mshape\u001b[0m\u001b[0;34m[\u001b[0m\u001b[0;36m1\u001b[0m\u001b[0;34m]\u001b[0m\u001b[0;34m\u001b[0m\u001b[0;34m\u001b[0m\u001b[0m\n\u001b[1;32m      3\u001b[0m     \u001b[0mdata\u001b[0m \u001b[0;34m=\u001b[0m \u001b[0mnp\u001b[0m\u001b[0;34m.\u001b[0m\u001b[0mhstack\u001b[0m\u001b[0;34m(\u001b[0m\u001b[0;34m(\u001b[0m\u001b[0mx\u001b[0m\u001b[0;34m,\u001b[0m \u001b[0my\u001b[0m\u001b[0;34m)\u001b[0m\u001b[0;34m)\u001b[0m\u001b[0;34m\u001b[0m\u001b[0;34m\u001b[0m\u001b[0m\n\u001b[0;32m----> 4\u001b[0;31m     \u001b[0mnp\u001b[0m\u001b[0;34m.\u001b[0m\u001b[0mrandom\u001b[0m\u001b[0;34m.\u001b[0m\u001b[0mshuffle\u001b[0m\u001b[0;34m(\u001b[0m\u001b[0mdata\u001b[0m\u001b[0;34m)\u001b[0m\u001b[0;34m\u001b[0m\u001b[0;34m\u001b[0m\u001b[0m\n\u001b[0m\u001b[1;32m      5\u001b[0m     \u001b[0mmini\u001b[0m \u001b[0;34m=\u001b[0m \u001b[0mdata\u001b[0m\u001b[0;34m[\u001b[0m\u001b[0;34m:\u001b[0m\u001b[0mbatch_size\u001b[0m\u001b[0;34m,\u001b[0m\u001b[0;34m:\u001b[0m\u001b[0;34m]\u001b[0m\u001b[0;34m\u001b[0m\u001b[0;34m\u001b[0m\u001b[0m\n\u001b[1;32m      6\u001b[0m     \u001b[0mx_mini\u001b[0m \u001b[0;34m=\u001b[0m \u001b[0mmini\u001b[0m\u001b[0;34m[\u001b[0m\u001b[0;34m:\u001b[0m\u001b[0;34m,\u001b[0m\u001b[0;34m:\u001b[0m\u001b[0mD\u001b[0m\u001b[0;34m]\u001b[0m\u001b[0;34m\u001b[0m\u001b[0;34m\u001b[0m\u001b[0m\n",
      "\u001b[0;31mKeyboardInterrupt\u001b[0m: "
     ]
    }
   ],
   "source": [
    "learning_list = [2,5,7]\n",
    "\n",
    "num_folds = 3\n",
    "acc_valid = np.zeros((len(learning_list), num_folds))\n",
    "for i, learning in enumerate(learning_list):\n",
    "    #Find the validation accuracy for num_folds splits for a given learning rate\n",
    "    for f, (tr, val) in enumerate(cross_validate(x_train.shape[0], num_folds)):\n",
    "        model = MLP_relu_one()\n",
    "        optimizer = GradientDescent(learning_rate=learning,iters=20000)\n",
    "        model.fit(x_train[tr], y_train[tr], x_test, y_test, optimizer)\n",
    "        acc_valid[i, f] = evaluate_acc(y_train[val], model.predict(x_train[val]))\n",
    "        print('For learning rate =',learning,'and fold',f,'the accuracy is:',acc_valid[i, f])\n",
    "# Given the time needed to perform cross-validation, we stopped the algorithm when we saw that 5 was not giving a good accuracy"
   ]
  },
  {
   "cell_type": "code",
   "execution_count": 74,
   "metadata": {},
   "outputs": [
    {
     "name": "stdout",
     "output_type": "stream",
     "text": [
      "For learning rate = 3 and fold 0 the accuracy is: 0.9333\n",
      "For learning rate = 3 and fold 1 the accuracy is: 0.9248\n",
      "For learning rate = 3 and fold 2 the accuracy is: 0.9316\n",
      "For learning rate = 4 and fold 0 the accuracy is: 0.09965\n",
      "For learning rate = 4 and fold 1 the accuracy is: 0.93665\n",
      "For learning rate = 4 and fold 2 the accuracy is: 0.9396\n"
     ]
    }
   ],
   "source": [
    "learning_list = [3,4]\n",
    "\n",
    "num_folds = 3\n",
    "acc_valid = np.zeros((len(learning_list), num_folds))\n",
    "for i, learning in enumerate(learning_list):\n",
    "    #Find the validation accuracy for num_folds splits for a given learning rate\n",
    "    for f, (tr, val) in enumerate(cross_validate(x_train.shape[0], num_folds)):\n",
    "        model = MLP_relu_one()\n",
    "        optimizer = GradientDescent(learning_rate=learning,iters=20000)\n",
    "        model.fit(x_train[tr], y_train[tr], x_test, y_test, optimizer)\n",
    "        acc_valid[i, f] = evaluate_acc(y_train[val], model.predict(x_train[val]))\n",
    "        print('For learning rate =',learning,'and fold',f,'the accuracy is:',acc_valid[i, f])"
   ]
  },
  {
   "cell_type": "code",
   "execution_count": 75,
   "metadata": {},
   "outputs": [
    {
     "name": "stdout",
     "output_type": "stream",
     "text": [
      "The accuracy is 93.3.\n"
     ]
    }
   ],
   "source": [
    "model = MLP_relu_one()\n",
    "optimizer = GradientDescent(learning_rate=4, iters=20000, epochs=100)\n",
    "\n",
    "model.fit(x_train, y_train, x_test, y_test, optimizer)\n",
    "acc = evaluate_acc(y_test, model.predict(x_test))\n",
    "print(f'The accuracy is {acc*100:.1f}.')"
   ]
  },
  {
   "cell_type": "code",
   "execution_count": 17,
   "metadata": {},
   "outputs": [
    {
     "name": "stdout",
     "output_type": "stream",
     "text": [
      "Epoch: 1, Train error: 2.3029, Test error: 2.3028\n",
      "Epoch: 2, Train error: 2.1097, Test error: 2.1228\n",
      "Epoch: 3, Train error: 1.1792, Test error: 1.2341\n",
      "Epoch: 4, Train error: 0.8282, Test error: 0.7461\n",
      "Epoch: 5, Train error: 0.5690, Test error: 0.5708\n",
      "Epoch: 6, Train error: 0.5567, Test error: 0.4849\n",
      "Epoch: 7, Train error: 0.4895, Test error: 0.4343\n",
      "Epoch: 8, Train error: 0.5135, Test error: 0.3997\n",
      "Epoch: 9, Train error: 0.3069, Test error: 0.3778\n",
      "Epoch: 10, Train error: 0.3187, Test error: 0.3605\n",
      "Epoch: 11, Train error: 0.4867, Test error: 0.3472\n",
      "Epoch: 12, Train error: 0.4612, Test error: 0.3353\n",
      "Epoch: 13, Train error: 0.3037, Test error: 0.3259\n",
      "Epoch: 14, Train error: 0.2912, Test error: 0.3185\n",
      "Epoch: 15, Train error: 0.5194, Test error: 0.3118\n",
      "Epoch: 16, Train error: 0.4190, Test error: 0.3050\n",
      "Epoch: 17, Train error: 0.3146, Test error: 0.2991\n",
      "Epoch: 18, Train error: 0.2952, Test error: 0.2941\n",
      "Epoch: 19, Train error: 0.2993, Test error: 0.2887\n",
      "Epoch: 20, Train error: 0.2658, Test error: 0.2847\n",
      "Epoch: 21, Train error: 0.1539, Test error: 0.2803\n",
      "Epoch: 22, Train error: 0.4103, Test error: 0.2763\n",
      "Epoch: 23, Train error: 0.1662, Test error: 0.2718\n",
      "Epoch: 24, Train error: 0.1715, Test error: 0.2681\n",
      "Epoch: 25, Train error: 0.2842, Test error: 0.2639\n",
      "Epoch: 26, Train error: 0.2896, Test error: 0.2602\n",
      "Epoch: 27, Train error: 0.2880, Test error: 0.2569\n",
      "Epoch: 28, Train error: 0.1821, Test error: 0.2528\n",
      "Epoch: 29, Train error: 0.1423, Test error: 0.2498\n",
      "Epoch: 30, Train error: 0.1171, Test error: 0.2462\n",
      "Epoch: 31, Train error: 0.1689, Test error: 0.2426\n",
      "Epoch: 32, Train error: 0.3039, Test error: 0.2391\n",
      "Epoch: 33, Train error: 0.2370, Test error: 0.2364\n",
      "Epoch: 34, Train error: 0.3009, Test error: 0.2333\n",
      "Epoch: 35, Train error: 0.1664, Test error: 0.2296\n",
      "Epoch: 36, Train error: 0.1519, Test error: 0.2269\n",
      "Epoch: 37, Train error: 0.1955, Test error: 0.2240\n",
      "Epoch: 38, Train error: 0.2195, Test error: 0.2220\n",
      "Epoch: 39, Train error: 0.2343, Test error: 0.2187\n",
      "Epoch: 40, Train error: 0.2071, Test error: 0.2154\n",
      "Epoch: 41, Train error: 0.1247, Test error: 0.2137\n",
      "Epoch: 42, Train error: 0.3571, Test error: 0.2110\n",
      "Epoch: 43, Train error: 0.1272, Test error: 0.2089\n",
      "Epoch: 44, Train error: 0.1241, Test error: 0.2065\n",
      "Epoch: 45, Train error: 0.1940, Test error: 0.2036\n",
      "Epoch: 46, Train error: 0.1321, Test error: 0.2014\n",
      "Epoch: 47, Train error: 0.2296, Test error: 0.1998\n",
      "Epoch: 48, Train error: 0.1907, Test error: 0.1980\n",
      "Epoch: 49, Train error: 0.1907, Test error: 0.1948\n",
      "Epoch: 50, Train error: 0.0938, Test error: 0.1940\n"
     ]
    },
    {
     "data": {
      "text/plain": [
       "<__main__.MLP_relu_one at 0x7f8fda62d350>"
      ]
     },
     "execution_count": 17,
     "metadata": {},
     "output_type": "execute_result"
    }
   ],
   "source": [
    "model = MLP_relu_one(cost=True)\n",
    "optimizer = GradientDescent(learning_rate=4, epochs=50, iters=600, cost=True)\n",
    "\n",
    "model.fit(x_train, y_train, x_test, y_test, optimizer)"
   ]
  },
  {
   "cell_type": "code",
   "execution_count": 20,
   "metadata": {},
   "outputs": [
    {
     "data": {
      "image/png": "[encoded data removed]",
      "text/plain": [
       "<Figure size 432x288 with 1 Axes>"
      ]
     },
     "metadata": {
      "needs_background": "light"
     },
     "output_type": "display_data"
    }
   ],
   "source": [
    "plt.plot(np.arange(len(model.train_loss)), model.train_loss, '-', label='train')\n",
    "plt.plot(np.arange(len(model.test_loss)), model.test_loss, '-', label='unseen')\n",
    "plt.legend()\n",
    "plt.xlabel('epoch')\n",
    "plt.ylabel('loss')\n",
    "plt.ylim(top = 0.7)\n",
    "plt.savefig('epochs_1layer.png')\n",
    "plt.show()"
   ]
  }
 ],
 "metadata": {
  "colab": {
   "collapsed_sections": [],
   "name": "COMP551_MNP3_0_1L.ipynb",
   "provenance": [],
   "toc_visible": true
  },
  "kernelspec": {
   "display_name": "Python 3",
   "language": "python",
   "name": "python3"
  },
  "language_info": {
   "codemirror_mode": {
    "name": "ipython",
    "version": 3
   },
   "file_extension": ".py",
   "mimetype": "text/x-python",
   "name": "python",
   "nbconvert_exporter": "python",
   "pygments_lexer": "ipython3",
   "version": "3.7.10"
  }
 },
 "nbformat": 4,
 "nbformat_minor": 1
}
